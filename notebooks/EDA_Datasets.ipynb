{
 "cells": [
  {
   "cell_type": "code",
   "execution_count": 1,
   "id": "9c6923de",
   "metadata": {},
   "outputs": [],
   "source": [
    "# !pip install datasets huggingface_hub pandas biopython"
   ]
  },
  {
   "cell_type": "code",
   "execution_count": 57,
   "id": "00ffc71e",
   "metadata": {},
   "outputs": [],
   "source": [
    "import glob\n",
    "import re\n",
    "from collections import Counter\n",
    "\n",
    "import pandas as pd\n",
    "import numpy as np\n",
    "from Bio import SeqIO\n",
    "from datasets import load_dataset, Dataset, DatasetDict\n",
    "from sklearn.model_selection import train_test_split\n",
    "from huggingface_hub import notebook_login\n",
    "from huggingface_hub import HfApi"
   ]
  },
  {
   "cell_type": "code",
   "execution_count": 58,
   "id": "2c27195f",
   "metadata": {},
   "outputs": [],
   "source": [
    "# Function to extract HLA mapping from FASTA files\n",
    "def parse_fasta(fasta_files):\n",
    "    hla_dict = {}\n",
    "    \n",
    "    for file in fasta_files:\n",
    "        for record in SeqIO.parse(file, \"fasta\"):\n",
    "            header_parts = record.description.split()\n",
    "            if len(header_parts) > 1:\n",
    "                hla_id = header_parts[1]  # Extract HLA type (e.g., A*01:01:01:01)\n",
    "                if len(hla_id.split(\":\")) > 2:\n",
    "                    hla_id = \":\".join(hla_id.split(\":\")[:2])\n",
    "                normalized_hla = \"HLA-\" + hla_id\n",
    "                hla_dict[normalized_hla] = str(record.seq)  # Store sequence\n",
    "    \n",
    "    return hla_dict\n",
    "\n",
    "# Load HLA nucleotide sequences from FASTA files https://github.com/ANHIG/IMGTHLA/blob/Latest/fasta/A_nuc.fasta\n",
    "fasta_files = glob.glob(\"../data/hla/*_nuc.fasta\")  # Load all relevant FASTA files\n",
    "hla_sequences = parse_fasta(fasta_files)"
   ]
  },
  {
   "cell_type": "markdown",
   "id": "0ece504e",
   "metadata": {},
   "source": [
    "# Anthem"
   ]
  },
  {
   "cell_type": "code",
   "execution_count": 59,
   "id": "5595ac9d",
   "metadata": {},
   "outputs": [],
   "source": [
    "# Load Anthem dataset\n",
    "urls = ['https://raw.githubusercontent.com/s7776d/CapsNet-MHC/refs/heads/main/dataset/Anthem_dataset/train_data.txt',\n",
    "        'https://raw.githubusercontent.com/s7776d/CapsNet-MHC/refs/heads/main/dataset/Anthem_dataset/test_data.txt']\n",
    "dfs_raw = [pd.read_csv(url, sep=\"\\t\") for url in urls]"
   ]
  },
  {
   "cell_type": "code",
   "execution_count": 60,
   "id": "755e951e",
   "metadata": {},
   "outputs": [
    {
     "data": {
      "text/html": [
       "<div>\n",
       "<style scoped>\n",
       "    .dataframe tbody tr th:only-of-type {\n",
       "        vertical-align: middle;\n",
       "    }\n",
       "\n",
       "    .dataframe tbody tr th {\n",
       "        vertical-align: top;\n",
       "    }\n",
       "\n",
       "    .dataframe thead th {\n",
       "        text-align: right;\n",
       "    }\n",
       "</style>\n",
       "<table border=\"1\" class=\"dataframe\">\n",
       "  <thead>\n",
       "    <tr style=\"text-align: right;\">\n",
       "      <th></th>\n",
       "      <th>HLA</th>\n",
       "      <th>peptide</th>\n",
       "      <th>Label</th>\n",
       "      <th>Length</th>\n",
       "    </tr>\n",
       "  </thead>\n",
       "  <tbody>\n",
       "    <tr>\n",
       "      <th>0</th>\n",
       "      <td>HLA-A*01:01</td>\n",
       "      <td>LFGRDLSY</td>\n",
       "      <td>1</td>\n",
       "      <td>8</td>\n",
       "    </tr>\n",
       "    <tr>\n",
       "      <th>1</th>\n",
       "      <td>HLA-A*01:01</td>\n",
       "      <td>TDKKTHLY</td>\n",
       "      <td>1</td>\n",
       "      <td>8</td>\n",
       "    </tr>\n",
       "    <tr>\n",
       "      <th>2</th>\n",
       "      <td>HLA-A*01:01</td>\n",
       "      <td>RSDTPLIY</td>\n",
       "      <td>1</td>\n",
       "      <td>8</td>\n",
       "    </tr>\n",
       "    <tr>\n",
       "      <th>3</th>\n",
       "      <td>HLA-A*01:01</td>\n",
       "      <td>NSDLVQKY</td>\n",
       "      <td>1</td>\n",
       "      <td>8</td>\n",
       "    </tr>\n",
       "    <tr>\n",
       "      <th>4</th>\n",
       "      <td>HLA-A*01:01</td>\n",
       "      <td>LSDLLDWK</td>\n",
       "      <td>1</td>\n",
       "      <td>8</td>\n",
       "    </tr>\n",
       "    <tr>\n",
       "      <th>...</th>\n",
       "      <td>...</td>\n",
       "      <td>...</td>\n",
       "      <td>...</td>\n",
       "      <td>...</td>\n",
       "    </tr>\n",
       "    <tr>\n",
       "      <th>172575</th>\n",
       "      <td>HLA-C*06:02</td>\n",
       "      <td>AAEQLVKTGWRSWH</td>\n",
       "      <td>0</td>\n",
       "      <td>14</td>\n",
       "    </tr>\n",
       "    <tr>\n",
       "      <th>172576</th>\n",
       "      <td>HLA-C*06:02</td>\n",
       "      <td>GCCMTGAAFGAMNG</td>\n",
       "      <td>0</td>\n",
       "      <td>14</td>\n",
       "    </tr>\n",
       "    <tr>\n",
       "      <th>172577</th>\n",
       "      <td>HLA-C*06:02</td>\n",
       "      <td>QYQLRNDSAEYKVI</td>\n",
       "      <td>0</td>\n",
       "      <td>14</td>\n",
       "    </tr>\n",
       "    <tr>\n",
       "      <th>172578</th>\n",
       "      <td>HLA-C*06:02</td>\n",
       "      <td>FFAGLVKYMHSGPV</td>\n",
       "      <td>0</td>\n",
       "      <td>14</td>\n",
       "    </tr>\n",
       "    <tr>\n",
       "      <th>172579</th>\n",
       "      <td>HLA-C*06:02</td>\n",
       "      <td>PDTINNHVKTCREE</td>\n",
       "      <td>0</td>\n",
       "      <td>14</td>\n",
       "    </tr>\n",
       "  </tbody>\n",
       "</table>\n",
       "<p>172580 rows × 4 columns</p>\n",
       "</div>"
      ],
      "text/plain": [
       "                HLA         peptide  Label  Length\n",
       "0       HLA-A*01:01        LFGRDLSY      1       8\n",
       "1       HLA-A*01:01        TDKKTHLY      1       8\n",
       "2       HLA-A*01:01        RSDTPLIY      1       8\n",
       "3       HLA-A*01:01        NSDLVQKY      1       8\n",
       "4       HLA-A*01:01        LSDLLDWK      1       8\n",
       "...             ...             ...    ...     ...\n",
       "172575  HLA-C*06:02  AAEQLVKTGWRSWH      0      14\n",
       "172576  HLA-C*06:02  GCCMTGAAFGAMNG      0      14\n",
       "172577  HLA-C*06:02  QYQLRNDSAEYKVI      0      14\n",
       "172578  HLA-C*06:02  FFAGLVKYMHSGPV      0      14\n",
       "172579  HLA-C*06:02  PDTINNHVKTCREE      0      14\n",
       "\n",
       "[172580 rows x 4 columns]"
      ]
     },
     "execution_count": 60,
     "metadata": {},
     "output_type": "execute_result"
    }
   ],
   "source": [
    "dfs_raw[1]"
   ]
  },
  {
   "cell_type": "code",
   "execution_count": 63,
   "id": "d2da636f",
   "metadata": {},
   "outputs": [
    {
     "name": "stdout",
     "output_type": "stream",
     "text": [
      "Sequences in train: 539019\n",
      "Sequences in train after removing unmatched HLA: 539019 Counter({0: 269645, 1: 269374})\n",
      "Unique HLA: 112, Unique peptide: 453277\n",
      "Sequences in test: 172580\n",
      "Sequences in test after removing unmatched HLA: 172580 Counter({0: 86470, 1: 86110})\n",
      "Unique HLA: 112, Unique peptide: 159082\n",
      "Unmatched HLA types:  set()\n"
     ]
    }
   ],
   "source": [
    "dfs = []\n",
    "unknown_hla = set()\n",
    "for df_raw, ds in zip(dfs_raw, ['train', 'test']):\n",
    "    df = df_raw.copy()\n",
    "    # Map sequences to HLA types\n",
    "    df.loc[:, \"Sequence\"] = df[\"HLA\"].map(hla_sequences)\n",
    "    print(f'Sequences in {ds}: {len(df)}')\n",
    "    un_hla = set(df[df['Sequence'] != df['Sequence']]['HLA'])\n",
    "    unknown_hla = unknown_hla.union(un_hla)\n",
    "    df.dropna(subset=['Sequence'], inplace=True)\n",
    "    print(f'Sequences in {ds} after removing unmatched HLA: {len(df)}', Counter(df['Label']))\n",
    "    unique_hla = len(df['HLA'].unique())\n",
    "    unique_pep = len(df['peptide'].unique())\n",
    "    print(f'Unique HLA: {unique_hla}, Unique peptide: {unique_pep}')\n",
    "    df.rename(columns={'peptide': 'Peptide'}, inplace=True)\n",
    "    df = df[['Peptide', 'Sequence', 'HLA', 'Length', 'Label']]\n",
    "    dfs.append(df)\n",
    "\n",
    "print('Unmatched HLA types: ', unknown_hla)"
   ]
  },
  {
   "cell_type": "code",
   "execution_count": 65,
   "id": "de8b8d8b",
   "metadata": {},
   "outputs": [
    {
     "data": {
      "application/vnd.jupyter.widget-view+json": {
       "model_id": "5cf08e875aba49c29e7edcd1de5b6f88",
       "version_major": 2,
       "version_minor": 0
      },
      "text/plain": [
       "VBox(children=(HTML(value='<center> <img\\nsrc=https://huggingface.co/front/assets/huggingface_logo-noborder.sv…"
      ]
     },
     "metadata": {},
     "output_type": "display_data"
    },
    {
     "data": {
      "application/vnd.jupyter.widget-view+json": {
       "model_id": "ca14fa73d55949e7a1080fc2b61eafd8",
       "version_major": 2,
       "version_minor": 0
      },
      "text/plain": [
       "Uploading the dataset shards:   0%|          | 0/2 [00:00<?, ?it/s]"
      ]
     },
     "metadata": {},
     "output_type": "display_data"
    },
    {
     "data": {
      "application/vnd.jupyter.widget-view+json": {
       "model_id": "d62af55347bc4ad49e1a42728eb8f821",
       "version_major": 2,
       "version_minor": 0
      },
      "text/plain": [
       "Creating parquet from Arrow format:   0%|          | 0/270 [00:00<?, ?ba/s]"
      ]
     },
     "metadata": {},
     "output_type": "display_data"
    },
    {
     "data": {
      "application/vnd.jupyter.widget-view+json": {
       "model_id": "fb773ea0d42e45d1a2c68f649f7dde46",
       "version_major": 2,
       "version_minor": 0
      },
      "text/plain": [
       "Creating parquet from Arrow format:   0%|          | 0/270 [00:00<?, ?ba/s]"
      ]
     },
     "metadata": {},
     "output_type": "display_data"
    },
    {
     "data": {
      "application/vnd.jupyter.widget-view+json": {
       "model_id": "ad3dedc06fc246528409f23433f6b1c4",
       "version_major": 2,
       "version_minor": 0
      },
      "text/plain": [
       "Uploading the dataset shards:   0%|          | 0/1 [00:00<?, ?it/s]"
      ]
     },
     "metadata": {},
     "output_type": "display_data"
    },
    {
     "data": {
      "application/vnd.jupyter.widget-view+json": {
       "model_id": "170647a499204f1e944b3f9864ad91c4",
       "version_major": 2,
       "version_minor": 0
      },
      "text/plain": [
       "Creating parquet from Arrow format:   0%|          | 0/173 [00:00<?, ?ba/s]"
      ]
     },
     "metadata": {},
     "output_type": "display_data"
    },
    {
     "data": {
      "application/vnd.jupyter.widget-view+json": {
       "model_id": "ddcd3aa5fb4b4f43ae4f1c5f43828d96",
       "version_major": 2,
       "version_minor": 0
      },
      "text/plain": [
       "README.md:   0%|          | 0.00/5.63k [00:00<?, ?B/s]"
      ]
     },
     "metadata": {},
     "output_type": "display_data"
    },
    {
     "name": "stderr",
     "output_type": "stream",
     "text": [
      "No files have been modified since last commit. Skipping to prevent empty commit.\n"
     ]
    },
    {
     "data": {
      "text/plain": [
       "CommitInfo(commit_url='https://huggingface.co/datasets/vladak/anthem_hla_seq/commit/96727f5ee31513810c8e24b81e416c1779b60a0c', commit_message='Upload dataset', commit_description='', oid='96727f5ee31513810c8e24b81e416c1779b60a0c', pr_url=None, repo_url=RepoUrl('https://huggingface.co/datasets/vladak/anthem_hla_seq', endpoint='https://huggingface.co', repo_type='dataset', repo_id='vladak/anthem_hla_seq'), pr_revision=None, pr_num=None)"
      ]
     },
     "execution_count": 65,
     "metadata": {},
     "output_type": "execute_result"
    }
   ],
   "source": [
    "# Log in to Hugging Face\n",
    "notebook_login()\n",
    "\n",
    "# Create a dataset dictionary (train/test split)\n",
    "dataset = DatasetDict({\n",
    "    \"train\": Dataset.from_pandas(dfs[0]),\n",
    "    \"test\": Dataset.from_pandas(dfs[1])\n",
    "})\n",
    "# Push dataset to Hugging Face Hub\n",
    "dataset.push_to_hub(\"vladak/anthem_hla_seq\")"
   ]
  },
  {
   "cell_type": "markdown",
   "id": "0a9c2e1c",
   "metadata": {},
   "source": [
    "# IEDB dataset"
   ]
  },
  {
   "cell_type": "code",
   "execution_count": 66,
   "id": "972456a6",
   "metadata": {},
   "outputs": [
    {
     "name": "stdout",
     "output_type": "stream",
     "text": [
      "157325\n",
      "8855\n"
     ]
    }
   ],
   "source": [
    "# Load IEDB dataset: http://tools.iedb.org/mhci/download/  binding_data_2013.zip\n",
    "url_train = \"https://raw.githubusercontent.com/s7776d/CapsNet-MHC/refs/heads/main/dataset/IEDB_dataset/training_set.txt\"\n",
    "df_train_raw = pd.read_csv(url_train, sep=\"\\t\")  # Adjust delimiter if needed\n",
    "url_test = \"https://raw.githubusercontent.com/s7776d/CapsNet-MHC/refs/heads/main/dataset/IEDB_dataset/testing_set.txt\"\n",
    "df_test_raw = pd.read_csv(url_test, sep=\"\\t\")  # Adjust delimiter if needed\n",
    "dfs = []\n",
    "for df_raw in [df_train_raw, df_test_raw]:\n",
    "    df = df_raw.copy()\n",
    "    df = df[df['species'] == 'human'] if 'species' in df else df\n",
    "    # Convert \"inequality\" column\n",
    "    def convert_meas(row):\n",
    "        if row[\"inequality\"] == \"<\":\n",
    "            ret = row[\"meas\"] / 2  # Assign a smaller estimate\n",
    "        elif row[\"inequality\"] == \">\":\n",
    "            ret = row[\"meas\"] * 2  # Assign a larger estimate\n",
    "        else:\n",
    "            ret = row[\"meas\"]\n",
    "        return np.round(np.log10(ret), 5)\n",
    "\n",
    "    df[\"processed_log_meas\"] = df.apply(convert_meas, axis=1) if 'inequality' in df else df[\"Measurement value\"]\n",
    "    print(len(df))\n",
    "    dfs.append(df.copy())"
   ]
  },
  {
   "cell_type": "code",
   "execution_count": 67,
   "id": "73967c29",
   "metadata": {},
   "outputs": [
    {
     "data": {
      "text/html": [
       "<div>\n",
       "<style scoped>\n",
       "    .dataframe tbody tr th:only-of-type {\n",
       "        vertical-align: middle;\n",
       "    }\n",
       "\n",
       "    .dataframe tbody tr th {\n",
       "        vertical-align: top;\n",
       "    }\n",
       "\n",
       "    .dataframe thead th {\n",
       "        text-align: right;\n",
       "    }\n",
       "</style>\n",
       "<table border=\"1\" class=\"dataframe\">\n",
       "  <thead>\n",
       "    <tr style=\"text-align: right;\">\n",
       "      <th></th>\n",
       "      <th>species</th>\n",
       "      <th>mhc</th>\n",
       "      <th>peptide_length</th>\n",
       "      <th>sequence</th>\n",
       "      <th>inequality</th>\n",
       "      <th>meas</th>\n",
       "      <th>processed_log_meas</th>\n",
       "    </tr>\n",
       "  </thead>\n",
       "  <tbody>\n",
       "    <tr>\n",
       "      <th>5009</th>\n",
       "      <td>human</td>\n",
       "      <td>HLA-A*01:01</td>\n",
       "      <td>8</td>\n",
       "      <td>ASFCGSPY</td>\n",
       "      <td>=</td>\n",
       "      <td>51.400000</td>\n",
       "      <td>1.71096</td>\n",
       "    </tr>\n",
       "    <tr>\n",
       "      <th>5010</th>\n",
       "      <td>human</td>\n",
       "      <td>HLA-A*01:01</td>\n",
       "      <td>8</td>\n",
       "      <td>LTDFGLSK</td>\n",
       "      <td>=</td>\n",
       "      <td>739.385479</td>\n",
       "      <td>2.86887</td>\n",
       "    </tr>\n",
       "    <tr>\n",
       "      <th>5011</th>\n",
       "      <td>human</td>\n",
       "      <td>HLA-A*01:01</td>\n",
       "      <td>8</td>\n",
       "      <td>FTSFFYRY</td>\n",
       "      <td>=</td>\n",
       "      <td>1285.000000</td>\n",
       "      <td>3.10890</td>\n",
       "    </tr>\n",
       "    <tr>\n",
       "      <th>5012</th>\n",
       "      <td>human</td>\n",
       "      <td>HLA-A*01:01</td>\n",
       "      <td>8</td>\n",
       "      <td>KSVFNSLY</td>\n",
       "      <td>=</td>\n",
       "      <td>1466.000000</td>\n",
       "      <td>3.16613</td>\n",
       "    </tr>\n",
       "    <tr>\n",
       "      <th>5013</th>\n",
       "      <td>human</td>\n",
       "      <td>HLA-A*01:01</td>\n",
       "      <td>8</td>\n",
       "      <td>RDWAHNSL</td>\n",
       "      <td>=</td>\n",
       "      <td>1804.675523</td>\n",
       "      <td>3.25640</td>\n",
       "    </tr>\n",
       "    <tr>\n",
       "      <th>...</th>\n",
       "      <td>...</td>\n",
       "      <td>...</td>\n",
       "      <td>...</td>\n",
       "      <td>...</td>\n",
       "      <td>...</td>\n",
       "      <td>...</td>\n",
       "      <td>...</td>\n",
       "    </tr>\n",
       "    <tr>\n",
       "      <th>162329</th>\n",
       "      <td>human</td>\n",
       "      <td>HLA-E*01:03</td>\n",
       "      <td>9</td>\n",
       "      <td>SMADRAENL</td>\n",
       "      <td>&gt;</td>\n",
       "      <td>50000.000000</td>\n",
       "      <td>5.00000</td>\n",
       "    </tr>\n",
       "    <tr>\n",
       "      <th>162330</th>\n",
       "      <td>human</td>\n",
       "      <td>HLA-E*01:03</td>\n",
       "      <td>9</td>\n",
       "      <td>SMAGRAGQL</td>\n",
       "      <td>&gt;</td>\n",
       "      <td>50000.000000</td>\n",
       "      <td>5.00000</td>\n",
       "    </tr>\n",
       "    <tr>\n",
       "      <th>162331</th>\n",
       "      <td>human</td>\n",
       "      <td>HLA-E*01:03</td>\n",
       "      <td>9</td>\n",
       "      <td>VEAFRTRPL</td>\n",
       "      <td>&gt;</td>\n",
       "      <td>50000.000000</td>\n",
       "      <td>5.00000</td>\n",
       "    </tr>\n",
       "    <tr>\n",
       "      <th>162332</th>\n",
       "      <td>human</td>\n",
       "      <td>HLA-E*01:03</td>\n",
       "      <td>9</td>\n",
       "      <td>VSNLRTGKL</td>\n",
       "      <td>&gt;</td>\n",
       "      <td>50000.000000</td>\n",
       "      <td>5.00000</td>\n",
       "    </tr>\n",
       "    <tr>\n",
       "      <th>162333</th>\n",
       "      <td>human</td>\n",
       "      <td>HLA-E*01:03</td>\n",
       "      <td>9</td>\n",
       "      <td>WMCDRAVDL</td>\n",
       "      <td>&gt;</td>\n",
       "      <td>50000.000000</td>\n",
       "      <td>5.00000</td>\n",
       "    </tr>\n",
       "  </tbody>\n",
       "</table>\n",
       "<p>157325 rows × 7 columns</p>\n",
       "</div>"
      ],
      "text/plain": [
       "       species          mhc  peptide_length   sequence inequality  \\\n",
       "5009     human  HLA-A*01:01               8   ASFCGSPY          =   \n",
       "5010     human  HLA-A*01:01               8   LTDFGLSK          =   \n",
       "5011     human  HLA-A*01:01               8   FTSFFYRY          =   \n",
       "5012     human  HLA-A*01:01               8   KSVFNSLY          =   \n",
       "5013     human  HLA-A*01:01               8   RDWAHNSL          =   \n",
       "...        ...          ...             ...        ...        ...   \n",
       "162329   human  HLA-E*01:03               9  SMADRAENL          >   \n",
       "162330   human  HLA-E*01:03               9  SMAGRAGQL          >   \n",
       "162331   human  HLA-E*01:03               9  VEAFRTRPL          >   \n",
       "162332   human  HLA-E*01:03               9  VSNLRTGKL          >   \n",
       "162333   human  HLA-E*01:03               9  WMCDRAVDL          >   \n",
       "\n",
       "                meas  processed_log_meas  \n",
       "5009       51.400000             1.71096  \n",
       "5010      739.385479             2.86887  \n",
       "5011     1285.000000             3.10890  \n",
       "5012     1466.000000             3.16613  \n",
       "5013     1804.675523             3.25640  \n",
       "...              ...                 ...  \n",
       "162329  50000.000000             5.00000  \n",
       "162330  50000.000000             5.00000  \n",
       "162331  50000.000000             5.00000  \n",
       "162332  50000.000000             5.00000  \n",
       "162333  50000.000000             5.00000  \n",
       "\n",
       "[157325 rows x 7 columns]"
      ]
     },
     "execution_count": 67,
     "metadata": {},
     "output_type": "execute_result"
    }
   ],
   "source": [
    "dfs[0]  # Skip test dataset... split train to train and test"
   ]
  },
  {
   "cell_type": "code",
   "execution_count": 69,
   "id": "cd3642df",
   "metadata": {},
   "outputs": [
    {
     "name": "stdout",
     "output_type": "stream",
     "text": [
      "Sequences after removing unmatched HLA: 156921\n",
      "Unique HLA: 102, Unique peptide: 29089\n"
     ]
    }
   ],
   "source": [
    "df = dfs[0][['mhc', 'sequence', 'processed_log_meas', 'peptide_length']].copy()\n",
    "df.columns = ['HLA', 'Peptide', 'Log_meas', 'Length']\n",
    "unknown_hla = set()\n",
    "df.loc[:, \"Sequence\"] = df[\"HLA\"].map(hla_sequences)\n",
    "df = df[['Peptide', 'Sequence', 'HLA', 'Length', 'Log_meas']]\n",
    "\n",
    "unknown_hla = set(df[df['Sequence'] != df['Sequence']]['HLA'])\n",
    "df.dropna(subset=['Sequence'], inplace=True)\n",
    "print(f'Sequences after removing unmatched HLA: {len(df)}')\n",
    "unique_hla = len(df['HLA'].unique())\n",
    "unique_pep = len(df['Peptide'].unique())\n",
    "print(f'Unique HLA: {unique_hla}, Unique peptide: {unique_pep}')"
   ]
  },
  {
   "cell_type": "code",
   "execution_count": 70,
   "id": "caea23fb",
   "metadata": {},
   "outputs": [
    {
     "data": {
      "text/html": [
       "<div>\n",
       "<style scoped>\n",
       "    .dataframe tbody tr th:only-of-type {\n",
       "        vertical-align: middle;\n",
       "    }\n",
       "\n",
       "    .dataframe tbody tr th {\n",
       "        vertical-align: top;\n",
       "    }\n",
       "\n",
       "    .dataframe thead th {\n",
       "        text-align: right;\n",
       "    }\n",
       "</style>\n",
       "<table border=\"1\" class=\"dataframe\">\n",
       "  <thead>\n",
       "    <tr style=\"text-align: right;\">\n",
       "      <th></th>\n",
       "      <th>Peptide</th>\n",
       "      <th>Sequence</th>\n",
       "      <th>HLA</th>\n",
       "      <th>Length</th>\n",
       "      <th>Log_meas</th>\n",
       "    </tr>\n",
       "  </thead>\n",
       "  <tbody>\n",
       "    <tr>\n",
       "      <th>5009</th>\n",
       "      <td>ASFCGSPY</td>\n",
       "      <td>ATGGCCGTCATGGCGCCCCGAACCCTCCTCCTGCTACTCTCGGGGG...</td>\n",
       "      <td>HLA-A*01:01</td>\n",
       "      <td>8</td>\n",
       "      <td>1.71096</td>\n",
       "    </tr>\n",
       "    <tr>\n",
       "      <th>5010</th>\n",
       "      <td>LTDFGLSK</td>\n",
       "      <td>ATGGCCGTCATGGCGCCCCGAACCCTCCTCCTGCTACTCTCGGGGG...</td>\n",
       "      <td>HLA-A*01:01</td>\n",
       "      <td>8</td>\n",
       "      <td>2.86887</td>\n",
       "    </tr>\n",
       "    <tr>\n",
       "      <th>5011</th>\n",
       "      <td>FTSFFYRY</td>\n",
       "      <td>ATGGCCGTCATGGCGCCCCGAACCCTCCTCCTGCTACTCTCGGGGG...</td>\n",
       "      <td>HLA-A*01:01</td>\n",
       "      <td>8</td>\n",
       "      <td>3.10890</td>\n",
       "    </tr>\n",
       "    <tr>\n",
       "      <th>5012</th>\n",
       "      <td>KSVFNSLY</td>\n",
       "      <td>ATGGCCGTCATGGCGCCCCGAACCCTCCTCCTGCTACTCTCGGGGG...</td>\n",
       "      <td>HLA-A*01:01</td>\n",
       "      <td>8</td>\n",
       "      <td>3.16613</td>\n",
       "    </tr>\n",
       "    <tr>\n",
       "      <th>5013</th>\n",
       "      <td>RDWAHNSL</td>\n",
       "      <td>ATGGCCGTCATGGCGCCCCGAACCCTCCTCCTGCTACTCTCGGGGG...</td>\n",
       "      <td>HLA-A*01:01</td>\n",
       "      <td>8</td>\n",
       "      <td>3.25640</td>\n",
       "    </tr>\n",
       "    <tr>\n",
       "      <th>...</th>\n",
       "      <td>...</td>\n",
       "      <td>...</td>\n",
       "      <td>...</td>\n",
       "      <td>...</td>\n",
       "      <td>...</td>\n",
       "    </tr>\n",
       "    <tr>\n",
       "      <th>162160</th>\n",
       "      <td>YVRTNGASY</td>\n",
       "      <td>ATGCGGGTCATGGCGCCCCGAACCCTCCTCCTGCTGCTCTCGGGAG...</td>\n",
       "      <td>HLA-C*15:02</td>\n",
       "      <td>9</td>\n",
       "      <td>4.60206</td>\n",
       "    </tr>\n",
       "    <tr>\n",
       "      <th>162161</th>\n",
       "      <td>YWMGGTTYF</td>\n",
       "      <td>ATGCGGGTCATGGCGCCCCGAACCCTCCTCCTGCTGCTCTCGGGAG...</td>\n",
       "      <td>HLA-C*15:02</td>\n",
       "      <td>9</td>\n",
       "      <td>4.60206</td>\n",
       "    </tr>\n",
       "    <tr>\n",
       "      <th>162162</th>\n",
       "      <td>YYGRWVHEF</td>\n",
       "      <td>ATGCGGGTCATGGCGCCCCGAACCCTCCTCCTGCTGCTCTCGGGAG...</td>\n",
       "      <td>HLA-C*15:02</td>\n",
       "      <td>9</td>\n",
       "      <td>4.60206</td>\n",
       "    </tr>\n",
       "    <tr>\n",
       "      <th>162163</th>\n",
       "      <td>YYKKTFSAL</td>\n",
       "      <td>ATGCGGGTCATGGCGCCCCGAACCCTCCTCCTGCTGCTCTCGGGAG...</td>\n",
       "      <td>HLA-C*15:02</td>\n",
       "      <td>9</td>\n",
       "      <td>4.60206</td>\n",
       "    </tr>\n",
       "    <tr>\n",
       "      <th>162164</th>\n",
       "      <td>RLGAVILFV</td>\n",
       "      <td>ATGCGGGTCATGGCGCCCCGAACCCTCCTCCTGCTGCTCTCGGGAG...</td>\n",
       "      <td>HLA-C*15:02</td>\n",
       "      <td>9</td>\n",
       "      <td>4.61991</td>\n",
       "    </tr>\n",
       "  </tbody>\n",
       "</table>\n",
       "<p>156921 rows × 5 columns</p>\n",
       "</div>"
      ],
      "text/plain": [
       "          Peptide                                           Sequence  \\\n",
       "5009     ASFCGSPY  ATGGCCGTCATGGCGCCCCGAACCCTCCTCCTGCTACTCTCGGGGG...   \n",
       "5010     LTDFGLSK  ATGGCCGTCATGGCGCCCCGAACCCTCCTCCTGCTACTCTCGGGGG...   \n",
       "5011     FTSFFYRY  ATGGCCGTCATGGCGCCCCGAACCCTCCTCCTGCTACTCTCGGGGG...   \n",
       "5012     KSVFNSLY  ATGGCCGTCATGGCGCCCCGAACCCTCCTCCTGCTACTCTCGGGGG...   \n",
       "5013     RDWAHNSL  ATGGCCGTCATGGCGCCCCGAACCCTCCTCCTGCTACTCTCGGGGG...   \n",
       "...           ...                                                ...   \n",
       "162160  YVRTNGASY  ATGCGGGTCATGGCGCCCCGAACCCTCCTCCTGCTGCTCTCGGGAG...   \n",
       "162161  YWMGGTTYF  ATGCGGGTCATGGCGCCCCGAACCCTCCTCCTGCTGCTCTCGGGAG...   \n",
       "162162  YYGRWVHEF  ATGCGGGTCATGGCGCCCCGAACCCTCCTCCTGCTGCTCTCGGGAG...   \n",
       "162163  YYKKTFSAL  ATGCGGGTCATGGCGCCCCGAACCCTCCTCCTGCTGCTCTCGGGAG...   \n",
       "162164  RLGAVILFV  ATGCGGGTCATGGCGCCCCGAACCCTCCTCCTGCTGCTCTCGGGAG...   \n",
       "\n",
       "                HLA  Length  Log_meas  \n",
       "5009    HLA-A*01:01       8   1.71096  \n",
       "5010    HLA-A*01:01       8   2.86887  \n",
       "5011    HLA-A*01:01       8   3.10890  \n",
       "5012    HLA-A*01:01       8   3.16613  \n",
       "5013    HLA-A*01:01       8   3.25640  \n",
       "...             ...     ...       ...  \n",
       "162160  HLA-C*15:02       9   4.60206  \n",
       "162161  HLA-C*15:02       9   4.60206  \n",
       "162162  HLA-C*15:02       9   4.60206  \n",
       "162163  HLA-C*15:02       9   4.60206  \n",
       "162164  HLA-C*15:02       9   4.61991  \n",
       "\n",
       "[156921 rows x 5 columns]"
      ]
     },
     "execution_count": 70,
     "metadata": {},
     "output_type": "execute_result"
    }
   ],
   "source": [
    "df"
   ]
  },
  {
   "cell_type": "code",
   "execution_count": 71,
   "id": "87ac1eb1",
   "metadata": {},
   "outputs": [
    {
     "data": {
      "application/vnd.jupyter.widget-view+json": {
       "model_id": "d97b0d94068f49aabceb85b9fb5111b1",
       "version_major": 2,
       "version_minor": 0
      },
      "text/plain": [
       "Uploading the dataset shards:   0%|          | 0/1 [00:00<?, ?it/s]"
      ]
     },
     "metadata": {},
     "output_type": "display_data"
    },
    {
     "data": {
      "application/vnd.jupyter.widget-view+json": {
       "model_id": "294c0397eb9a48dfab6e5061ecaad0fb",
       "version_major": 2,
       "version_minor": 0
      },
      "text/plain": [
       "Creating parquet from Arrow format:   0%|          | 0/126 [00:00<?, ?ba/s]"
      ]
     },
     "metadata": {},
     "output_type": "display_data"
    },
    {
     "data": {
      "application/vnd.jupyter.widget-view+json": {
       "model_id": "6d8077ffaa35468a8788b41238d9d417",
       "version_major": 2,
       "version_minor": 0
      },
      "text/plain": [
       "Uploading the dataset shards:   0%|          | 0/1 [00:00<?, ?it/s]"
      ]
     },
     "metadata": {},
     "output_type": "display_data"
    },
    {
     "data": {
      "application/vnd.jupyter.widget-view+json": {
       "model_id": "63c6df76119548778f655ecb8751c455",
       "version_major": 2,
       "version_minor": 0
      },
      "text/plain": [
       "Creating parquet from Arrow format:   0%|          | 0/32 [00:00<?, ?ba/s]"
      ]
     },
     "metadata": {},
     "output_type": "display_data"
    },
    {
     "data": {
      "application/vnd.jupyter.widget-view+json": {
       "model_id": "c2cadc373a32404eafcee32f58bf7951",
       "version_major": 2,
       "version_minor": 0
      },
      "text/plain": [
       "README.md:   0%|          | 0.00/820 [00:00<?, ?B/s]"
      ]
     },
     "metadata": {},
     "output_type": "display_data"
    },
    {
     "name": "stderr",
     "output_type": "stream",
     "text": [
      "Repo card metadata block was not found. Setting CardData to empty.\n"
     ]
    },
    {
     "data": {
      "text/plain": [
       "CommitInfo(commit_url='https://huggingface.co/datasets/vladak/iedb-2013/commit/a7169b4db1b70f21990b2d4a42715e7ffb4e01b8', commit_message='Upload dataset', commit_description='', oid='a7169b4db1b70f21990b2d4a42715e7ffb4e01b8', pr_url=None, repo_url=RepoUrl('https://huggingface.co/datasets/vladak/iedb-2013', endpoint='https://huggingface.co', repo_type='dataset', repo_id='vladak/iedb-2013'), pr_revision=None, pr_num=None)"
      ]
     },
     "execution_count": 71,
     "metadata": {},
     "output_type": "execute_result"
    }
   ],
   "source": [
    "# Split the dataset into 80/20 train/test\n",
    "train_df, test_df = train_test_split(df, test_size=0.2, random_state=42)\n",
    "train_df.reset_index(inplace=True, drop=True)\n",
    "test_df.reset_index(inplace=True, drop=True)\n",
    "\n",
    "# Convert dataframes to Hugging Face Dataset objects\n",
    "train_dataset = Dataset.from_pandas(train_df)\n",
    "test_dataset = Dataset.from_pandas(test_df)\n",
    "\n",
    "# Create a DatasetDict\n",
    "dataset_dict = DatasetDict({\n",
    "    'train': train_dataset,\n",
    "    'test': test_dataset\n",
    "})\n",
    "\n",
    "# Push the dataset to Hugging Face Hub\n",
    "dataset_dict.push_to_hub('vladak/iedb-2013')"
   ]
  },
  {
   "cell_type": "code",
   "execution_count": 55,
   "id": "2d4220c2",
   "metadata": {},
   "outputs": [
    {
     "data": {
      "text/plain": [
       "Dataset({\n",
       "    features: ['HLA', 'peptide', 'Log_meas', 'Length', 'Sequence'],\n",
       "    num_rows: 125536\n",
       "})"
      ]
     },
     "execution_count": 55,
     "metadata": {},
     "output_type": "execute_result"
    }
   ],
   "source": [
    "dataset_dict['train']"
   ]
  },
  {
   "cell_type": "code",
   "execution_count": 51,
   "id": "9564ceed",
   "metadata": {},
   "outputs": [
    {
     "data": {
      "text/html": [
       "<div>\n",
       "<style scoped>\n",
       "    .dataframe tbody tr th:only-of-type {\n",
       "        vertical-align: middle;\n",
       "    }\n",
       "\n",
       "    .dataframe tbody tr th {\n",
       "        vertical-align: top;\n",
       "    }\n",
       "\n",
       "    .dataframe thead th {\n",
       "        text-align: right;\n",
       "    }\n",
       "</style>\n",
       "<table border=\"1\" class=\"dataframe\">\n",
       "  <thead>\n",
       "    <tr style=\"text-align: right;\">\n",
       "      <th></th>\n",
       "      <th>index</th>\n",
       "      <th>HLA</th>\n",
       "      <th>peptide</th>\n",
       "      <th>Log_meas</th>\n",
       "      <th>Length</th>\n",
       "      <th>Sequence</th>\n",
       "    </tr>\n",
       "  </thead>\n",
       "  <tbody>\n",
       "    <tr>\n",
       "      <th>0</th>\n",
       "      <td>40236</td>\n",
       "      <td>HLA-A*02:12</td>\n",
       "      <td>RKLTNPANK</td>\n",
       "      <td>4.60206</td>\n",
       "      <td>9</td>\n",
       "      <td>ATGGCCGTCATGGCGCCCCGAACCCTCGTCCTGCTACTCTCGGGGG...</td>\n",
       "    </tr>\n",
       "    <tr>\n",
       "      <th>1</th>\n",
       "      <td>14629</td>\n",
       "      <td>HLA-A*02:01</td>\n",
       "      <td>NVLLYNRLL</td>\n",
       "      <td>3.78010</td>\n",
       "      <td>9</td>\n",
       "      <td>ATGGCCGTCATGGCGCCCCGAACCCTCGTCCTGCTACTCTCGGGGG...</td>\n",
       "    </tr>\n",
       "    <tr>\n",
       "      <th>2</th>\n",
       "      <td>52483</td>\n",
       "      <td>HLA-A*11:01</td>\n",
       "      <td>AAATSAGTR</td>\n",
       "      <td>3.61142</td>\n",
       "      <td>9</td>\n",
       "      <td>ATGGCCGTCATGGCGCCCCGAACCCTCCTCCTGCTACTCTCGGGGG...</td>\n",
       "    </tr>\n",
       "    <tr>\n",
       "      <th>3</th>\n",
       "      <td>81394</td>\n",
       "      <td>HLA-A*31:01</td>\n",
       "      <td>ISDYDYYRY</td>\n",
       "      <td>4.60206</td>\n",
       "      <td>9</td>\n",
       "      <td>ATGGCCGTCATGGCGCCCCGAACCCTCCTCCTGCTACTCTTGGGGG...</td>\n",
       "    </tr>\n",
       "    <tr>\n",
       "      <th>4</th>\n",
       "      <td>123674</td>\n",
       "      <td>HLA-B*18:01</td>\n",
       "      <td>RRARSLSAERY</td>\n",
       "      <td>5.10220</td>\n",
       "      <td>11</td>\n",
       "      <td>ATGCGGGTCACGGCGCCCCGAACCCTCCTCCTGCTGCTCTGGGGGG...</td>\n",
       "    </tr>\n",
       "    <tr>\n",
       "      <th>...</th>\n",
       "      <td>...</td>\n",
       "      <td>...</td>\n",
       "      <td>...</td>\n",
       "      <td>...</td>\n",
       "      <td>...</td>\n",
       "      <td>...</td>\n",
       "    </tr>\n",
       "    <tr>\n",
       "      <th>125531</th>\n",
       "      <td>125040</td>\n",
       "      <td>HLA-B*27:05</td>\n",
       "      <td>RRLAATTEK</td>\n",
       "      <td>1.56544</td>\n",
       "      <td>9</td>\n",
       "      <td>ATGCGGGTCACGGCGCCCCGAACCCTCCTCCTGCTGCTCTGGGGGG...</td>\n",
       "    </tr>\n",
       "    <tr>\n",
       "      <th>125532</th>\n",
       "      <td>108855</td>\n",
       "      <td>HLA-B*08:01</td>\n",
       "      <td>CSIMRAPFA</td>\n",
       "      <td>4.03104</td>\n",
       "      <td>9</td>\n",
       "      <td>ATGCTGGTCATGGCGCCCCGAACCGTCCTCCTGCTGCTCTCGGCGG...</td>\n",
       "    </tr>\n",
       "    <tr>\n",
       "      <th>125533</th>\n",
       "      <td>137093</td>\n",
       "      <td>HLA-B*40:01</td>\n",
       "      <td>SPAIFQSSM</td>\n",
       "      <td>5.18293</td>\n",
       "      <td>9</td>\n",
       "      <td>ATGCGGGTCACGGCACCCCGAACCGTCCTCCTGCTGCTCTCGGCGG...</td>\n",
       "    </tr>\n",
       "    <tr>\n",
       "      <th>125534</th>\n",
       "      <td>152028</td>\n",
       "      <td>HLA-B*54:01</td>\n",
       "      <td>LPTNASLSF</td>\n",
       "      <td>4.69897</td>\n",
       "      <td>9</td>\n",
       "      <td>ATGCGGGTCACGGCACCCCGAACCCTCCTCCTGCTGCTCTGGGGGG...</td>\n",
       "    </tr>\n",
       "    <tr>\n",
       "      <th>125535</th>\n",
       "      <td>127119</td>\n",
       "      <td>HLA-B*27:05</td>\n",
       "      <td>STEIGLLVG</td>\n",
       "      <td>4.60206</td>\n",
       "      <td>9</td>\n",
       "      <td>ATGCGGGTCACGGCGCCCCGAACCCTCCTCCTGCTGCTCTGGGGGG...</td>\n",
       "    </tr>\n",
       "  </tbody>\n",
       "</table>\n",
       "<p>125536 rows × 6 columns</p>\n",
       "</div>"
      ],
      "text/plain": [
       "         index          HLA      peptide  Log_meas  Length  \\\n",
       "0        40236  HLA-A*02:12    RKLTNPANK   4.60206       9   \n",
       "1        14629  HLA-A*02:01    NVLLYNRLL   3.78010       9   \n",
       "2        52483  HLA-A*11:01    AAATSAGTR   3.61142       9   \n",
       "3        81394  HLA-A*31:01    ISDYDYYRY   4.60206       9   \n",
       "4       123674  HLA-B*18:01  RRARSLSAERY   5.10220      11   \n",
       "...        ...          ...          ...       ...     ...   \n",
       "125531  125040  HLA-B*27:05    RRLAATTEK   1.56544       9   \n",
       "125532  108855  HLA-B*08:01    CSIMRAPFA   4.03104       9   \n",
       "125533  137093  HLA-B*40:01    SPAIFQSSM   5.18293       9   \n",
       "125534  152028  HLA-B*54:01    LPTNASLSF   4.69897       9   \n",
       "125535  127119  HLA-B*27:05    STEIGLLVG   4.60206       9   \n",
       "\n",
       "                                                 Sequence  \n",
       "0       ATGGCCGTCATGGCGCCCCGAACCCTCGTCCTGCTACTCTCGGGGG...  \n",
       "1       ATGGCCGTCATGGCGCCCCGAACCCTCGTCCTGCTACTCTCGGGGG...  \n",
       "2       ATGGCCGTCATGGCGCCCCGAACCCTCCTCCTGCTACTCTCGGGGG...  \n",
       "3       ATGGCCGTCATGGCGCCCCGAACCCTCCTCCTGCTACTCTTGGGGG...  \n",
       "4       ATGCGGGTCACGGCGCCCCGAACCCTCCTCCTGCTGCTCTGGGGGG...  \n",
       "...                                                   ...  \n",
       "125531  ATGCGGGTCACGGCGCCCCGAACCCTCCTCCTGCTGCTCTGGGGGG...  \n",
       "125532  ATGCTGGTCATGGCGCCCCGAACCGTCCTCCTGCTGCTCTCGGCGG...  \n",
       "125533  ATGCGGGTCACGGCACCCCGAACCGTCCTCCTGCTGCTCTCGGCGG...  \n",
       "125534  ATGCGGGTCACGGCACCCCGAACCCTCCTCCTGCTGCTCTGGGGGG...  \n",
       "125535  ATGCGGGTCACGGCGCCCCGAACCCTCCTCCTGCTGCTCTGGGGGG...  \n",
       "\n",
       "[125536 rows x 6 columns]"
      ]
     },
     "execution_count": 51,
     "metadata": {},
     "output_type": "execute_result"
    }
   ],
   "source": [
    "train_df"
   ]
  },
  {
   "cell_type": "code",
   "execution_count": null,
   "id": "2603526f",
   "metadata": {},
   "outputs": [],
   "source": []
  }
 ],
 "metadata": {
  "kernelspec": {
   "display_name": "Python 3 (ipykernel)",
   "language": "python",
   "name": "python3"
  },
  "language_info": {
   "codemirror_mode": {
    "name": "ipython",
    "version": 3
   },
   "file_extension": ".py",
   "mimetype": "text/x-python",
   "name": "python",
   "nbconvert_exporter": "python",
   "pygments_lexer": "ipython3",
   "version": "3.9.12"
  }
 },
 "nbformat": 4,
 "nbformat_minor": 5
}
