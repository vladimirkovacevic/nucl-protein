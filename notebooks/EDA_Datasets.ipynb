{
 "cells": [
  {
   "cell_type": "code",
   "execution_count": 72,
   "id": "9c6923de",
   "metadata": {},
   "outputs": [],
   "source": [
    "# !pip install datasets huggingface_hub pandas biopython"
   ]
  },
  {
   "cell_type": "code",
   "execution_count": 65,
   "id": "00ffc71e",
   "metadata": {},
   "outputs": [],
   "source": [
    "import glob\n",
    "import re\n",
    "from collections import Counter\n",
    "import pandas as pd\n",
    "from Bio import SeqIO\n",
    "from datasets import load_dataset, Dataset, DatasetDict\n",
    "from huggingface_hub import notebook_login\n",
    "\n",
    "# Load IEDB dataset\n",
    "# url_train = \"https://raw.githubusercontent.com/s7776d/CapsNet-MHC/refs/heads/main/dataset/IEDB_dataset/training_set.txt\"\n",
    "# df_train_raw = pd.read_csv(url_train, sep=\"\\t\")  # Adjust delimiter if needed\n",
    "# url_test = \"https://raw.githubusercontent.com/s7776d/CapsNet-MHC/refs/heads/main/dataset/IEDB_dataset/testing_set.txt\"\n",
    "# df_test_raw = pd.read_csv(url_test, sep=\"\\t\")  # Adjust delimiter if needed\n",
    "# dfs = []\n",
    "# for df_raw in [df_train_raw, df_test_raw]:\n",
    "#     df = df_raw.copy()\n",
    "#     df = df[df['species'] == 'human'] if 'species' in df else df\n",
    "#     # Convert \"inequality\" column\n",
    "#     def convert_meas(row):\n",
    "#         if row[\"inequality\"] == \"<\":\n",
    "#             return row[\"meas\"] / 2  # Assign a smaller estimate\n",
    "#         elif row[\"inequality\"] == \">\":\n",
    "#             return row[\"meas\"] * 2  # Assign a larger estimate\n",
    "#         else:\n",
    "#             return row[\"meas\"]\n",
    "\n",
    "#     df[\"processed_meas\"] = df.apply(convert_meas, axis=1) if 'inequality' in df else df[\"Measurement value\"]\n",
    "#     print(len(df))\n",
    "#     dfs.append(df.copy())\n",
    "\n",
    "# Load Anthem dataset\n",
    "urls = ['https://raw.githubusercontent.com/s7776d/CapsNet-MHC/refs/heads/main/dataset/Anthem_dataset/train_data.txt',\n",
    "        'https://raw.githubusercontent.com/s7776d/CapsNet-MHC/refs/heads/main/dataset/Anthem_dataset/test_data.txt']\n",
    "dfs_raw = [pd.read_csv(url, sep=\"\\t\") for url in urls]"
   ]
  },
  {
   "cell_type": "code",
   "execution_count": 37,
   "id": "755e951e",
   "metadata": {},
   "outputs": [
    {
     "data": {
      "text/html": [
       "<div>\n",
       "<style scoped>\n",
       "    .dataframe tbody tr th:only-of-type {\n",
       "        vertical-align: middle;\n",
       "    }\n",
       "\n",
       "    .dataframe tbody tr th {\n",
       "        vertical-align: top;\n",
       "    }\n",
       "\n",
       "    .dataframe thead th {\n",
       "        text-align: right;\n",
       "    }\n",
       "</style>\n",
       "<table border=\"1\" class=\"dataframe\">\n",
       "  <thead>\n",
       "    <tr style=\"text-align: right;\">\n",
       "      <th></th>\n",
       "      <th>HLA</th>\n",
       "      <th>peptide</th>\n",
       "      <th>Label</th>\n",
       "      <th>Length</th>\n",
       "    </tr>\n",
       "  </thead>\n",
       "  <tbody>\n",
       "    <tr>\n",
       "      <th>0</th>\n",
       "      <td>HLA-A*01:01</td>\n",
       "      <td>LFGRDLSY</td>\n",
       "      <td>1</td>\n",
       "      <td>8</td>\n",
       "    </tr>\n",
       "    <tr>\n",
       "      <th>1</th>\n",
       "      <td>HLA-A*01:01</td>\n",
       "      <td>TDKKTHLY</td>\n",
       "      <td>1</td>\n",
       "      <td>8</td>\n",
       "    </tr>\n",
       "    <tr>\n",
       "      <th>2</th>\n",
       "      <td>HLA-A*01:01</td>\n",
       "      <td>RSDTPLIY</td>\n",
       "      <td>1</td>\n",
       "      <td>8</td>\n",
       "    </tr>\n",
       "    <tr>\n",
       "      <th>3</th>\n",
       "      <td>HLA-A*01:01</td>\n",
       "      <td>NSDLVQKY</td>\n",
       "      <td>1</td>\n",
       "      <td>8</td>\n",
       "    </tr>\n",
       "    <tr>\n",
       "      <th>4</th>\n",
       "      <td>HLA-A*01:01</td>\n",
       "      <td>LSDLLDWK</td>\n",
       "      <td>1</td>\n",
       "      <td>8</td>\n",
       "    </tr>\n",
       "    <tr>\n",
       "      <th>...</th>\n",
       "      <td>...</td>\n",
       "      <td>...</td>\n",
       "      <td>...</td>\n",
       "      <td>...</td>\n",
       "    </tr>\n",
       "    <tr>\n",
       "      <th>172575</th>\n",
       "      <td>HLA-C*06:02</td>\n",
       "      <td>AAEQLVKTGWRSWH</td>\n",
       "      <td>0</td>\n",
       "      <td>14</td>\n",
       "    </tr>\n",
       "    <tr>\n",
       "      <th>172576</th>\n",
       "      <td>HLA-C*06:02</td>\n",
       "      <td>GCCMTGAAFGAMNG</td>\n",
       "      <td>0</td>\n",
       "      <td>14</td>\n",
       "    </tr>\n",
       "    <tr>\n",
       "      <th>172577</th>\n",
       "      <td>HLA-C*06:02</td>\n",
       "      <td>QYQLRNDSAEYKVI</td>\n",
       "      <td>0</td>\n",
       "      <td>14</td>\n",
       "    </tr>\n",
       "    <tr>\n",
       "      <th>172578</th>\n",
       "      <td>HLA-C*06:02</td>\n",
       "      <td>FFAGLVKYMHSGPV</td>\n",
       "      <td>0</td>\n",
       "      <td>14</td>\n",
       "    </tr>\n",
       "    <tr>\n",
       "      <th>172579</th>\n",
       "      <td>HLA-C*06:02</td>\n",
       "      <td>PDTINNHVKTCREE</td>\n",
       "      <td>0</td>\n",
       "      <td>14</td>\n",
       "    </tr>\n",
       "  </tbody>\n",
       "</table>\n",
       "<p>172580 rows × 4 columns</p>\n",
       "</div>"
      ],
      "text/plain": [
       "                HLA         peptide  Label  Length\n",
       "0       HLA-A*01:01        LFGRDLSY      1       8\n",
       "1       HLA-A*01:01        TDKKTHLY      1       8\n",
       "2       HLA-A*01:01        RSDTPLIY      1       8\n",
       "3       HLA-A*01:01        NSDLVQKY      1       8\n",
       "4       HLA-A*01:01        LSDLLDWK      1       8\n",
       "...             ...             ...    ...     ...\n",
       "172575  HLA-C*06:02  AAEQLVKTGWRSWH      0      14\n",
       "172576  HLA-C*06:02  GCCMTGAAFGAMNG      0      14\n",
       "172577  HLA-C*06:02  QYQLRNDSAEYKVI      0      14\n",
       "172578  HLA-C*06:02  FFAGLVKYMHSGPV      0      14\n",
       "172579  HLA-C*06:02  PDTINNHVKTCREE      0      14\n",
       "\n",
       "[172580 rows x 4 columns]"
      ]
     },
     "execution_count": 37,
     "metadata": {},
     "output_type": "execute_result"
    }
   ],
   "source": [
    "dfs_raw[1]"
   ]
  },
  {
   "cell_type": "code",
   "execution_count": 69,
   "id": "d2da636f",
   "metadata": {},
   "outputs": [
    {
     "name": "stdout",
     "output_type": "stream",
     "text": [
      "Sequences in train: 539019\n",
      "Sequences in train after removing unmatched HLA: 510896 Counter({0: 255537, 1: 255359})\n",
      "Unique HLA: 88, Unique peptide: 435153\n",
      "Sequences in test: 172580\n",
      "Sequences in test after removing unmatched HLA: 163120 Counter({0: 81715, 1: 81405})\n",
      "Unique HLA: 88, Unique peptide: 151402\n",
      "Unmatched HLA types:  {'HLA-B*27:20', 'HLA-A*24:06', 'HLA-A*26:02', 'HLA-B*15:42', 'HLA-A*02:04', 'HLA-A*32:15', 'HLA-A*24:13', 'HLA-B*15:11', 'HLA-B*27:04', 'HLA-A*02:20', 'HLA-B*27:01', 'HLA-A*02:12', 'HLA-B*27:08', 'HLA-A*68:23', 'HLA-A*02:50', 'HLA-B*15:09', 'HLA-A*02:16', 'HLA-A*02:19', 'HLA-B*83:01', 'HLA-A*32:07', 'HLA-B*27:07', 'HLA-B*27:03', 'HLA-B*27:09', 'HLA-B*45:06'}\n"
     ]
    }
   ],
   "source": [
    "# Function to extract HLA mapping from FASTA files\n",
    "def parse_fasta(fasta_files):\n",
    "    hla_dict = {}\n",
    "    \n",
    "    for file in fasta_files:\n",
    "        for record in SeqIO.parse(file, \"fasta\"):\n",
    "            header_parts = record.description.split()\n",
    "            if len(header_parts) > 1:\n",
    "                hla_id = header_parts[1]  # Extract HLA type (e.g., A*01:01:01:01)\n",
    "                normalized_hla = re.sub(r\":\\d+$\", \"\", hla_id)  # Normalize (e.g., A*01:01:01)\n",
    "                normalized_hla = \"HLA-\" + re.sub(r\":\\d+$\", \"\", normalized_hla)  # Normalize (e.g., A*01:01)\n",
    "                hla_dict[normalized_hla] = str(record.seq)  # Store sequence\n",
    "    \n",
    "    return hla_dict\n",
    "\n",
    "# Load HLA nucleotide sequences from FASTA files https://github.com/ANHIG/IMGTHLA/blob/Latest/fasta/A_nuc.fasta\n",
    "fasta_files = glob.glob(\"../data/hla/*_nuc.fasta\")  # Load all relevant FASTA files\n",
    "hla_sequences = parse_fasta(fasta_files)\n",
    "\n",
    "dfs = []\n",
    "unknown_hla = set()\n",
    "for df_raw, ds in zip(dfs_raw, ['train', 'test']):\n",
    "    df = df_raw.copy()\n",
    "    # Map sequences to HLA types\n",
    "    df.loc[:, \"Sequence\"] = df[\"HLA\"].map(hla_sequences)\n",
    "    print(f'Sequences in {ds}: {len(df)}')\n",
    "    un_hla = set(df[df['Sequence'] != df['Sequence']]['HLA'])\n",
    "    unknown_hla = unknown_hla.union(un_hla)\n",
    "    df.dropna(subset=['Sequence'], inplace=True)\n",
    "    print(f'Sequences in {ds} after removing unmatched HLA: {len(df)}', Counter(df['Label']))\n",
    "    unique_hla = len(df['HLA'].unique())\n",
    "    unique_pep = len(df['peptide'].unique())\n",
    "    print(f'Unique HLA: {unique_hla}, Unique peptide: {unique_pep}')\n",
    "    dfs.append(df)\n",
    "\n",
    "print('Unmatched HLA types: ', unknown_hla)"
   ]
  },
  {
   "cell_type": "code",
   "execution_count": 75,
   "id": "de8b8d8b",
   "metadata": {},
   "outputs": [
    {
     "data": {
      "application/vnd.jupyter.widget-view+json": {
       "model_id": "e188de75c7b44cd08d3097d49208ca47",
       "version_major": 2,
       "version_minor": 0
      },
      "text/plain": [
       "VBox(children=(HTML(value='<center> <img\\nsrc=https://huggingface.co/front/assets/huggingface_logo-noborder.sv…"
      ]
     },
     "metadata": {},
     "output_type": "display_data"
    },
    {
     "data": {
      "application/vnd.jupyter.widget-view+json": {
       "model_id": "e14219fbba964c05b9c610fa301b7733",
       "version_major": 2,
       "version_minor": 0
      },
      "text/plain": [
       "Uploading the dataset shards:   0%|          | 0/2 [00:00<?, ?it/s]"
      ]
     },
     "metadata": {},
     "output_type": "display_data"
    },
    {
     "data": {
      "application/vnd.jupyter.widget-view+json": {
       "model_id": "98f0f1b024c542e9beb27d48c3a7403d",
       "version_major": 2,
       "version_minor": 0
      },
      "text/plain": [
       "Creating parquet from Arrow format:   0%|          | 0/256 [00:00<?, ?ba/s]"
      ]
     },
     "metadata": {},
     "output_type": "display_data"
    },
    {
     "data": {
      "application/vnd.jupyter.widget-view+json": {
       "model_id": "5289d9b0e4e049fa9cf7178790aa1c56",
       "version_major": 2,
       "version_minor": 0
      },
      "text/plain": [
       "Creating parquet from Arrow format:   0%|          | 0/256 [00:00<?, ?ba/s]"
      ]
     },
     "metadata": {},
     "output_type": "display_data"
    },
    {
     "data": {
      "application/vnd.jupyter.widget-view+json": {
       "model_id": "73fff6cda3564ac19cfcb93c954a499d",
       "version_major": 2,
       "version_minor": 0
      },
      "text/plain": [
       "Uploading the dataset shards:   0%|          | 0/1 [00:00<?, ?it/s]"
      ]
     },
     "metadata": {},
     "output_type": "display_data"
    },
    {
     "data": {
      "application/vnd.jupyter.widget-view+json": {
       "model_id": "13fae6711491474581f5ae37f498901d",
       "version_major": 2,
       "version_minor": 0
      },
      "text/plain": [
       "Creating parquet from Arrow format:   0%|          | 0/164 [00:00<?, ?ba/s]"
      ]
     },
     "metadata": {},
     "output_type": "display_data"
    },
    {
     "data": {
      "text/plain": [
       "CommitInfo(commit_url='https://huggingface.co/datasets/vladak/anthem_hla_seq/commit/c673bd50f5d2226bb6628ba7699c5ffbd708a9dd', commit_message='Upload dataset', commit_description='', oid='c673bd50f5d2226bb6628ba7699c5ffbd708a9dd', pr_url=None, repo_url=RepoUrl('https://huggingface.co/datasets/vladak/anthem_hla_seq', endpoint='https://huggingface.co', repo_type='dataset', repo_id='vladak/anthem_hla_seq'), pr_revision=None, pr_num=None)"
      ]
     },
     "execution_count": 75,
     "metadata": {},
     "output_type": "execute_result"
    }
   ],
   "source": [
    "# Log in to Hugging Face\n",
    "notebook_login()\n",
    "\n",
    "# Create a dataset dictionary (train/test split)\n",
    "dataset = DatasetDict({\n",
    "    \"train\": Dataset.from_pandas(dfs[0]),\n",
    "    \"test\": Dataset.from_pandas(dfs[1])\n",
    "})\n",
    "# Push dataset to Hugging Face Hub\n",
    "dataset.push_to_hub(\"vladak/anthem_hla_seq\")"
   ]
  },
  {
   "cell_type": "code",
   "execution_count": null,
   "id": "8e211fea",
   "metadata": {},
   "outputs": [],
   "source": []
  }
 ],
 "metadata": {
  "kernelspec": {
   "display_name": "Python 3 (ipykernel)",
   "language": "python",
   "name": "python3"
  },
  "language_info": {
   "codemirror_mode": {
    "name": "ipython",
    "version": 3
   },
   "file_extension": ".py",
   "mimetype": "text/x-python",
   "name": "python",
   "nbconvert_exporter": "python",
   "pygments_lexer": "ipython3",
   "version": "3.9.12"
  }
 },
 "nbformat": 4,
 "nbformat_minor": 5
}
