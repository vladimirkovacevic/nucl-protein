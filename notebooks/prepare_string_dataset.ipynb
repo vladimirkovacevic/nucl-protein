{
 "cells": [
  {
   "cell_type": "code",
   "execution_count": 26,
   "id": "df01ed1c",
   "metadata": {},
   "outputs": [
    {
     "name": "stdout",
     "output_type": "stream",
     "text": [
      "Downloading human STRING interactions...\n",
      "Filtered STRING interactions: 11938498\n",
      "Downloading STRING protein info for mapping...\n"
     ]
    },
    {
     "data": {
      "text/html": [
       "<div>\n",
       "<style scoped>\n",
       "    .dataframe tbody tr th:only-of-type {\n",
       "        vertical-align: middle;\n",
       "    }\n",
       "\n",
       "    .dataframe tbody tr th {\n",
       "        vertical-align: top;\n",
       "    }\n",
       "\n",
       "    .dataframe thead th {\n",
       "        text-align: right;\n",
       "    }\n",
       "</style>\n",
       "<table border=\"1\" class=\"dataframe\">\n",
       "  <thead>\n",
       "    <tr style=\"text-align: right;\">\n",
       "      <th></th>\n",
       "      <th>#string_protein_id</th>\n",
       "      <th>preferred_name</th>\n",
       "      <th>protein_size</th>\n",
       "      <th>annotation</th>\n",
       "    </tr>\n",
       "  </thead>\n",
       "  <tbody>\n",
       "    <tr>\n",
       "      <th>0</th>\n",
       "      <td>9606.ENSP00000000233</td>\n",
       "      <td>ARF5</td>\n",
       "      <td>180</td>\n",
       "      <td>ADP-ribosylation factor 5; GTP-binding protein...</td>\n",
       "    </tr>\n",
       "    <tr>\n",
       "      <th>1</th>\n",
       "      <td>9606.ENSP00000000412</td>\n",
       "      <td>M6PR</td>\n",
       "      <td>277</td>\n",
       "      <td>Cation-dependent mannose-6-phosphate receptor;...</td>\n",
       "    </tr>\n",
       "    <tr>\n",
       "      <th>2</th>\n",
       "      <td>9606.ENSP00000001008</td>\n",
       "      <td>FKBP4</td>\n",
       "      <td>459</td>\n",
       "      <td>Peptidyl-prolyl cis-trans isomerase FKBP4; Imm...</td>\n",
       "    </tr>\n",
       "    <tr>\n",
       "      <th>3</th>\n",
       "      <td>9606.ENSP00000001146</td>\n",
       "      <td>CYP26B1</td>\n",
       "      <td>512</td>\n",
       "      <td>Cytochrome P450 26B1; Involved in the metaboli...</td>\n",
       "    </tr>\n",
       "    <tr>\n",
       "      <th>4</th>\n",
       "      <td>9606.ENSP00000002125</td>\n",
       "      <td>NDUFAF7</td>\n",
       "      <td>441</td>\n",
       "      <td>Protein arginine methyltransferase NDUFAF7, mi...</td>\n",
       "    </tr>\n",
       "    <tr>\n",
       "      <th>...</th>\n",
       "      <td>...</td>\n",
       "      <td>...</td>\n",
       "      <td>...</td>\n",
       "      <td>...</td>\n",
       "    </tr>\n",
       "    <tr>\n",
       "      <th>19561</th>\n",
       "      <td>9606.ENSP00000485671</td>\n",
       "      <td>ENSG00000280273</td>\n",
       "      <td>120</td>\n",
       "      <td>HCG1991042</td>\n",
       "    </tr>\n",
       "    <tr>\n",
       "      <th>19562</th>\n",
       "      <td>9606.ENSP00000485672</td>\n",
       "      <td>ENSG00000279458</td>\n",
       "      <td>86</td>\n",
       "      <td>annotation not available</td>\n",
       "    </tr>\n",
       "    <tr>\n",
       "      <th>19563</th>\n",
       "      <td>9606.ENSP00000485673</td>\n",
       "      <td>ENSG00000279988</td>\n",
       "      <td>243</td>\n",
       "      <td>annotation not available</td>\n",
       "    </tr>\n",
       "    <tr>\n",
       "      <th>19564</th>\n",
       "      <td>9606.ENSP00000485675</td>\n",
       "      <td>ENSG00000280116</td>\n",
       "      <td>84</td>\n",
       "      <td>annotation not available</td>\n",
       "    </tr>\n",
       "    <tr>\n",
       "      <th>19565</th>\n",
       "      <td>9606.ENSP00000485678</td>\n",
       "      <td>OR6Q1</td>\n",
       "      <td>317</td>\n",
       "      <td>Olfactory receptor 6Q1; Odorant receptor; Olfa...</td>\n",
       "    </tr>\n",
       "  </tbody>\n",
       "</table>\n",
       "<p>19566 rows × 4 columns</p>\n",
       "</div>"
      ],
      "text/plain": [
       "         #string_protein_id   preferred_name  protein_size  \\\n",
       "0      9606.ENSP00000000233             ARF5           180   \n",
       "1      9606.ENSP00000000412             M6PR           277   \n",
       "2      9606.ENSP00000001008            FKBP4           459   \n",
       "3      9606.ENSP00000001146          CYP26B1           512   \n",
       "4      9606.ENSP00000002125          NDUFAF7           441   \n",
       "...                     ...              ...           ...   \n",
       "19561  9606.ENSP00000485671  ENSG00000280273           120   \n",
       "19562  9606.ENSP00000485672  ENSG00000279458            86   \n",
       "19563  9606.ENSP00000485673  ENSG00000279988           243   \n",
       "19564  9606.ENSP00000485675  ENSG00000280116            84   \n",
       "19565  9606.ENSP00000485678            OR6Q1           317   \n",
       "\n",
       "                                              annotation  \n",
       "0      ADP-ribosylation factor 5; GTP-binding protein...  \n",
       "1      Cation-dependent mannose-6-phosphate receptor;...  \n",
       "2      Peptidyl-prolyl cis-trans isomerase FKBP4; Imm...  \n",
       "3      Cytochrome P450 26B1; Involved in the metaboli...  \n",
       "4      Protein arginine methyltransferase NDUFAF7, mi...  \n",
       "...                                                  ...  \n",
       "19561                                        HCG1991042   \n",
       "19562                           annotation not available  \n",
       "19563                           annotation not available  \n",
       "19564                           annotation not available  \n",
       "19565  Olfactory receptor 6Q1; Odorant receptor; Olfa...  \n",
       "\n",
       "[19566 rows x 4 columns]"
      ]
     },
     "execution_count": 26,
     "metadata": {},
     "output_type": "execute_result"
    }
   ],
   "source": [
    "import pandas as pd\n",
    "import requests\n",
    "import gzip\n",
    "import io\n",
    "from Bio import SeqIO\n",
    "\n",
    "\n",
    "# -----------------------------\n",
    "# 1. Download human STRING interactions\n",
    "# -----------------------------\n",
    "print(\"Downloading human STRING interactions...\")\n",
    "string_url = \"https://stringdb-static.org/download/protein.links.detailed.v11.5/9606.protein.links.detailed.v11.5.txt.gz\"\n",
    "\n",
    "# Read in chunks to save memory\n",
    "chunks = pd.read_csv(string_url, sep=\" \", compression='gzip', chunksize=10**6)\n",
    "filtered_chunks = []\n",
    "for chunk in chunks:\n",
    "    # Keep only high-confidence positives and low-confidence negatives\n",
    "    filtered = chunk[(chunk['combined_score'] > 0.7) | (chunk['combined_score'] < 0.1)]\n",
    "    filtered_chunks.append(filtered)\n",
    "\n",
    "string_df = pd.concat(filtered_chunks)\n",
    "print(f\"Filtered STRING interactions: {len(string_df)}\")\n",
    "\n",
    "# -----------------------------\n",
    "# 2. Map STRING protein IDs to UniProt IDs\n",
    "# -----------------------------\n",
    "print(\"Downloading STRING protein info for mapping...\")\n",
    "string_info_url = \"https://stringdb-static.org/download/protein.info.v11.5/9606.protein.info.v11.5.txt.gz\"\n",
    "string_info = pd.read_csv(string_info_url, sep=\"\\t\")\n",
    "string_info\n"
   ]
  },
  {
   "cell_type": "code",
   "execution_count": 27,
   "id": "1054683b",
   "metadata": {},
   "outputs": [
    {
     "name": "stdout",
     "output_type": "stream",
     "text": [
      "Downloading human reference proteome...\n",
      "Total genes mapped from proteome: 20575\n",
      "Saved sequences for 17796 proteins\n"
     ]
    }
   ],
   "source": [
    "import requests\n",
    "import gzip\n",
    "import io\n",
    "from Bio import SeqIO\n",
    "import pandas as pd\n",
    "\n",
    "\n",
    "# Download human reference proteome from UniProt\n",
    "print(\"Downloading human reference proteome...\")\n",
    "url = \"https://rest.uniprot.org/uniprotkb/stream?compressed=true&format=fasta&query=(proteome:UP000005640)\"\n",
    "r = requests.get(url)\n",
    "r.raise_for_status()\n",
    "\n",
    "# Parse FASTA into gene-to-sequence map\n",
    "gene_to_seq = {}\n",
    "with gzip.open(io.BytesIO(r.content), \"rt\") as handle:\n",
    "    for record in SeqIO.parse(handle, \"fasta\"):\n",
    "        header = record.description\n",
    "        seq = str(record.seq)\n",
    "        gene = None\n",
    "        for token in header.split():\n",
    "            if token.startswith(\"GN=\"):\n",
    "                gene = token.split(\"=\")[1]\n",
    "                break\n",
    "        if gene and gene not in gene_to_seq:\n",
    "            gene_to_seq[gene] = seq\n",
    "\n",
    "print(f\"Total genes mapped from proteome: {len(gene_to_seq)}\")\n",
    "\n",
    "# Map sequences to STRING preferred_name\n",
    "string_info[\"seq\"] = string_info[\"preferred_name\"].map(gene_to_seq)\n",
    "\n",
    "# Save to CSV\n",
    "string_info.to_csv(\"string_info_with_sequences.csv\", index=False)\n",
    "print(f\"Saved sequences for {string_info['seq'].notna().sum()} proteins\")\n"
   ]
  },
  {
   "cell_type": "code",
   "execution_count": 4,
   "id": "8291dee7",
   "metadata": {},
   "outputs": [
    {
     "data": {
      "text/html": [
       "<div>\n",
       "<style scoped>\n",
       "    .dataframe tbody tr th:only-of-type {\n",
       "        vertical-align: middle;\n",
       "    }\n",
       "\n",
       "    .dataframe tbody tr th {\n",
       "        vertical-align: top;\n",
       "    }\n",
       "\n",
       "    .dataframe thead th {\n",
       "        text-align: right;\n",
       "    }\n",
       "</style>\n",
       "<table border=\"1\" class=\"dataframe\">\n",
       "  <thead>\n",
       "    <tr style=\"text-align: right;\">\n",
       "      <th></th>\n",
       "      <th>protein1</th>\n",
       "      <th>protein2</th>\n",
       "      <th>neighborhood</th>\n",
       "      <th>fusion</th>\n",
       "      <th>cooccurence</th>\n",
       "      <th>coexpression</th>\n",
       "      <th>experimental</th>\n",
       "      <th>database</th>\n",
       "      <th>textmining</th>\n",
       "      <th>combined_score</th>\n",
       "    </tr>\n",
       "  </thead>\n",
       "  <tbody>\n",
       "    <tr>\n",
       "      <th>0</th>\n",
       "      <td>9606.ENSP00000000233</td>\n",
       "      <td>9606.ENSP00000379496</td>\n",
       "      <td>0</td>\n",
       "      <td>0</td>\n",
       "      <td>0</td>\n",
       "      <td>54</td>\n",
       "      <td>0</td>\n",
       "      <td>0</td>\n",
       "      <td>144</td>\n",
       "      <td>155</td>\n",
       "    </tr>\n",
       "    <tr>\n",
       "      <th>1</th>\n",
       "      <td>9606.ENSP00000000233</td>\n",
       "      <td>9606.ENSP00000314067</td>\n",
       "      <td>0</td>\n",
       "      <td>0</td>\n",
       "      <td>0</td>\n",
       "      <td>0</td>\n",
       "      <td>180</td>\n",
       "      <td>0</td>\n",
       "      <td>61</td>\n",
       "      <td>197</td>\n",
       "    </tr>\n",
       "    <tr>\n",
       "      <th>2</th>\n",
       "      <td>9606.ENSP00000000233</td>\n",
       "      <td>9606.ENSP00000263116</td>\n",
       "      <td>0</td>\n",
       "      <td>0</td>\n",
       "      <td>0</td>\n",
       "      <td>62</td>\n",
       "      <td>152</td>\n",
       "      <td>0</td>\n",
       "      <td>101</td>\n",
       "      <td>222</td>\n",
       "    </tr>\n",
       "    <tr>\n",
       "      <th>3</th>\n",
       "      <td>9606.ENSP00000000233</td>\n",
       "      <td>9606.ENSP00000361263</td>\n",
       "      <td>0</td>\n",
       "      <td>0</td>\n",
       "      <td>0</td>\n",
       "      <td>0</td>\n",
       "      <td>161</td>\n",
       "      <td>0</td>\n",
       "      <td>64</td>\n",
       "      <td>181</td>\n",
       "    </tr>\n",
       "    <tr>\n",
       "      <th>4</th>\n",
       "      <td>9606.ENSP00000000233</td>\n",
       "      <td>9606.ENSP00000409666</td>\n",
       "      <td>0</td>\n",
       "      <td>0</td>\n",
       "      <td>0</td>\n",
       "      <td>82</td>\n",
       "      <td>213</td>\n",
       "      <td>0</td>\n",
       "      <td>72</td>\n",
       "      <td>270</td>\n",
       "    </tr>\n",
       "    <tr>\n",
       "      <th>...</th>\n",
       "      <td>...</td>\n",
       "      <td>...</td>\n",
       "      <td>...</td>\n",
       "      <td>...</td>\n",
       "      <td>...</td>\n",
       "      <td>...</td>\n",
       "      <td>...</td>\n",
       "      <td>...</td>\n",
       "      <td>...</td>\n",
       "      <td>...</td>\n",
       "    </tr>\n",
       "    <tr>\n",
       "      <th>11938493</th>\n",
       "      <td>9606.ENSP00000485678</td>\n",
       "      <td>9606.ENSP00000354800</td>\n",
       "      <td>0</td>\n",
       "      <td>0</td>\n",
       "      <td>0</td>\n",
       "      <td>213</td>\n",
       "      <td>0</td>\n",
       "      <td>0</td>\n",
       "      <td>0</td>\n",
       "      <td>213</td>\n",
       "    </tr>\n",
       "    <tr>\n",
       "      <th>11938494</th>\n",
       "      <td>9606.ENSP00000485678</td>\n",
       "      <td>9606.ENSP00000308270</td>\n",
       "      <td>0</td>\n",
       "      <td>0</td>\n",
       "      <td>0</td>\n",
       "      <td>152</td>\n",
       "      <td>0</td>\n",
       "      <td>0</td>\n",
       "      <td>0</td>\n",
       "      <td>151</td>\n",
       "    </tr>\n",
       "    <tr>\n",
       "      <th>11938495</th>\n",
       "      <td>9606.ENSP00000485678</td>\n",
       "      <td>9606.ENSP00000335660</td>\n",
       "      <td>0</td>\n",
       "      <td>0</td>\n",
       "      <td>0</td>\n",
       "      <td>182</td>\n",
       "      <td>0</td>\n",
       "      <td>0</td>\n",
       "      <td>0</td>\n",
       "      <td>181</td>\n",
       "    </tr>\n",
       "    <tr>\n",
       "      <th>11938496</th>\n",
       "      <td>9606.ENSP00000485678</td>\n",
       "      <td>9606.ENSP00000300127</td>\n",
       "      <td>0</td>\n",
       "      <td>0</td>\n",
       "      <td>0</td>\n",
       "      <td>155</td>\n",
       "      <td>0</td>\n",
       "      <td>0</td>\n",
       "      <td>0</td>\n",
       "      <td>154</td>\n",
       "    </tr>\n",
       "    <tr>\n",
       "      <th>11938497</th>\n",
       "      <td>9606.ENSP00000485678</td>\n",
       "      <td>9606.ENSP00000310488</td>\n",
       "      <td>0</td>\n",
       "      <td>0</td>\n",
       "      <td>0</td>\n",
       "      <td>168</td>\n",
       "      <td>0</td>\n",
       "      <td>0</td>\n",
       "      <td>0</td>\n",
       "      <td>167</td>\n",
       "    </tr>\n",
       "  </tbody>\n",
       "</table>\n",
       "<p>11938498 rows × 10 columns</p>\n",
       "</div>"
      ],
      "text/plain": [
       "                      protein1              protein2  neighborhood  fusion  \\\n",
       "0         9606.ENSP00000000233  9606.ENSP00000379496             0       0   \n",
       "1         9606.ENSP00000000233  9606.ENSP00000314067             0       0   \n",
       "2         9606.ENSP00000000233  9606.ENSP00000263116             0       0   \n",
       "3         9606.ENSP00000000233  9606.ENSP00000361263             0       0   \n",
       "4         9606.ENSP00000000233  9606.ENSP00000409666             0       0   \n",
       "...                        ...                   ...           ...     ...   \n",
       "11938493  9606.ENSP00000485678  9606.ENSP00000354800             0       0   \n",
       "11938494  9606.ENSP00000485678  9606.ENSP00000308270             0       0   \n",
       "11938495  9606.ENSP00000485678  9606.ENSP00000335660             0       0   \n",
       "11938496  9606.ENSP00000485678  9606.ENSP00000300127             0       0   \n",
       "11938497  9606.ENSP00000485678  9606.ENSP00000310488             0       0   \n",
       "\n",
       "          cooccurence  coexpression  experimental  database  textmining  \\\n",
       "0                   0            54             0         0         144   \n",
       "1                   0             0           180         0          61   \n",
       "2                   0            62           152         0         101   \n",
       "3                   0             0           161         0          64   \n",
       "4                   0            82           213         0          72   \n",
       "...               ...           ...           ...       ...         ...   \n",
       "11938493            0           213             0         0           0   \n",
       "11938494            0           152             0         0           0   \n",
       "11938495            0           182             0         0           0   \n",
       "11938496            0           155             0         0           0   \n",
       "11938497            0           168             0         0           0   \n",
       "\n",
       "          combined_score  \n",
       "0                    155  \n",
       "1                    197  \n",
       "2                    222  \n",
       "3                    181  \n",
       "4                    270  \n",
       "...                  ...  \n",
       "11938493             213  \n",
       "11938494             151  \n",
       "11938495             181  \n",
       "11938496             154  \n",
       "11938497             167  \n",
       "\n",
       "[11938498 rows x 10 columns]"
      ]
     },
     "execution_count": 4,
     "metadata": {},
     "output_type": "execute_result"
    }
   ],
   "source": [
    "string_df"
   ]
  },
  {
   "cell_type": "code",
   "execution_count": 30,
   "id": "edaa269d",
   "metadata": {},
   "outputs": [
    {
     "data": {
      "text/html": [
       "<div>\n",
       "<style scoped>\n",
       "    .dataframe tbody tr th:only-of-type {\n",
       "        vertical-align: middle;\n",
       "    }\n",
       "\n",
       "    .dataframe tbody tr th {\n",
       "        vertical-align: top;\n",
       "    }\n",
       "\n",
       "    .dataframe thead th {\n",
       "        text-align: right;\n",
       "    }\n",
       "</style>\n",
       "<table border=\"1\" class=\"dataframe\">\n",
       "  <thead>\n",
       "    <tr style=\"text-align: right;\">\n",
       "      <th></th>\n",
       "      <th>seq_name_a</th>\n",
       "      <th>seq_name_b</th>\n",
       "      <th>seq_a</th>\n",
       "      <th>seq_b</th>\n",
       "      <th>score</th>\n",
       "    </tr>\n",
       "  </thead>\n",
       "  <tbody>\n",
       "    <tr>\n",
       "      <th>0</th>\n",
       "      <td>ARF5</td>\n",
       "      <td>PDE1C</td>\n",
       "      <td>MGLTVSALFSRIFGKKQMRILMVGLDAAGKTTILYKLKLGEIVTTI...</td>\n",
       "      <td>MESPTKEIEEFESNSLKYLQPEQIEKIWLRLRGLRKYKKTSQRLRS...</td>\n",
       "      <td>0.155</td>\n",
       "    </tr>\n",
       "    <tr>\n",
       "      <th>1</th>\n",
       "      <td>ARF5</td>\n",
       "      <td>PAK2</td>\n",
       "      <td>MGLTVSALFSRIFGKKQMRILMVGLDAAGKTTILYKLKLGEIVTTI...</td>\n",
       "      <td>MSDNGELEDKPPAPPVRMSSTIFSTGGKDPLSANHSLKPLPSVPEE...</td>\n",
       "      <td>0.197</td>\n",
       "    </tr>\n",
       "    <tr>\n",
       "      <th>2</th>\n",
       "      <td>ARF5</td>\n",
       "      <td>RAB36</td>\n",
       "      <td>MGLTVSALFSRIFGKKQMRILMVGLDAAGKTTILYKLKLGEIVTTI...</td>\n",
       "      <td>MRSSLTPLGPPVSRDRVIASFPKWYTPEACLQLREHFHGQVSAACQ...</td>\n",
       "      <td>0.222</td>\n",
       "    </tr>\n",
       "    <tr>\n",
       "      <th>3</th>\n",
       "      <td>ARF5</td>\n",
       "      <td>RAPGEF1</td>\n",
       "      <td>MGLTVSALFSRIFGKKQMRILMVGLDAAGKTTILYKLKLGEIVTTI...</td>\n",
       "      <td>MDTDSQRSHLSSFTMKLMDKFHSPKIKRTPSKKGKPAEVSVKIPEK...</td>\n",
       "      <td>0.181</td>\n",
       "    </tr>\n",
       "    <tr>\n",
       "      <th>4</th>\n",
       "      <td>ARF5</td>\n",
       "      <td>SUMO3</td>\n",
       "      <td>MGLTVSALFSRIFGKKQMRILMVGLDAAGKTTILYKLKLGEIVTTI...</td>\n",
       "      <td>MSEEKPKEGVKTENDHINLKVAGQDGSVVQFKIKRHTPLSKLMKAY...</td>\n",
       "      <td>0.270</td>\n",
       "    </tr>\n",
       "    <tr>\n",
       "      <th>...</th>\n",
       "      <td>...</td>\n",
       "      <td>...</td>\n",
       "      <td>...</td>\n",
       "      <td>...</td>\n",
       "      <td>...</td>\n",
       "    </tr>\n",
       "    <tr>\n",
       "      <th>11938493</th>\n",
       "      <td>OR6Q1</td>\n",
       "      <td>OR5D13</td>\n",
       "      <td>MQPYTKNWTQVTEFVMMGFAGIHEAHLLFFILFLTMYLFTLVENLA...</td>\n",
       "      <td>MMASERNQSSTPTFILLGFSEYPEIQVPLFLVFLFVYTVTVVGNLG...</td>\n",
       "      <td>0.213</td>\n",
       "    </tr>\n",
       "    <tr>\n",
       "      <th>11938494</th>\n",
       "      <td>OR6Q1</td>\n",
       "      <td>OR5B3</td>\n",
       "      <td>MQPYTKNWTQVTEFVMMGFAGIHEAHLLFFILFLTMYLFTLVENLA...</td>\n",
       "      <td>MENKTEVTQFILLGLTNDSELQVPLFITFPFIYIITLVGNLGIIVL...</td>\n",
       "      <td>0.151</td>\n",
       "    </tr>\n",
       "    <tr>\n",
       "      <th>11938495</th>\n",
       "      <td>OR6Q1</td>\n",
       "      <td>KRTAP19-2</td>\n",
       "      <td>MQPYTKNWTQVTEFVMMGFAGIHEAHLLFFILFLTMYLFTLVENLA...</td>\n",
       "      <td>MCYGYGCGCGSFCRLGYGCGYEGCRYGCGHRGCGDGCCCPSCYRRY...</td>\n",
       "      <td>0.181</td>\n",
       "    </tr>\n",
       "    <tr>\n",
       "      <th>11938496</th>\n",
       "      <td>OR6Q1</td>\n",
       "      <td>OR4D6</td>\n",
       "      <td>MQPYTKNWTQVTEFVMMGFAGIHEAHLLFFILFLTMYLFTLVENLA...</td>\n",
       "      <td>MDQINHTNVKEFFFLELTRSRELEFFLFVVFFAVYVATVLGNALIV...</td>\n",
       "      <td>0.154</td>\n",
       "    </tr>\n",
       "    <tr>\n",
       "      <th>11938497</th>\n",
       "      <td>OR6Q1</td>\n",
       "      <td>OR7D4</td>\n",
       "      <td>MQPYTKNWTQVTEFVMMGFAGIHEAHLLFFILFLTMYLFTLVENLA...</td>\n",
       "      <td>MEAENLTELSKFLLLGLSDDPELQPVLFGLFLSMYLVTVLGNLLII...</td>\n",
       "      <td>0.167</td>\n",
       "    </tr>\n",
       "  </tbody>\n",
       "</table>\n",
       "<p>10697924 rows × 5 columns</p>\n",
       "</div>"
      ],
      "text/plain": [
       "         seq_name_a seq_name_b  \\\n",
       "0              ARF5      PDE1C   \n",
       "1              ARF5       PAK2   \n",
       "2              ARF5      RAB36   \n",
       "3              ARF5    RAPGEF1   \n",
       "4              ARF5      SUMO3   \n",
       "...             ...        ...   \n",
       "11938493      OR6Q1     OR5D13   \n",
       "11938494      OR6Q1      OR5B3   \n",
       "11938495      OR6Q1  KRTAP19-2   \n",
       "11938496      OR6Q1      OR4D6   \n",
       "11938497      OR6Q1      OR7D4   \n",
       "\n",
       "                                                      seq_a  \\\n",
       "0         MGLTVSALFSRIFGKKQMRILMVGLDAAGKTTILYKLKLGEIVTTI...   \n",
       "1         MGLTVSALFSRIFGKKQMRILMVGLDAAGKTTILYKLKLGEIVTTI...   \n",
       "2         MGLTVSALFSRIFGKKQMRILMVGLDAAGKTTILYKLKLGEIVTTI...   \n",
       "3         MGLTVSALFSRIFGKKQMRILMVGLDAAGKTTILYKLKLGEIVTTI...   \n",
       "4         MGLTVSALFSRIFGKKQMRILMVGLDAAGKTTILYKLKLGEIVTTI...   \n",
       "...                                                     ...   \n",
       "11938493  MQPYTKNWTQVTEFVMMGFAGIHEAHLLFFILFLTMYLFTLVENLA...   \n",
       "11938494  MQPYTKNWTQVTEFVMMGFAGIHEAHLLFFILFLTMYLFTLVENLA...   \n",
       "11938495  MQPYTKNWTQVTEFVMMGFAGIHEAHLLFFILFLTMYLFTLVENLA...   \n",
       "11938496  MQPYTKNWTQVTEFVMMGFAGIHEAHLLFFILFLTMYLFTLVENLA...   \n",
       "11938497  MQPYTKNWTQVTEFVMMGFAGIHEAHLLFFILFLTMYLFTLVENLA...   \n",
       "\n",
       "                                                      seq_b  score  \n",
       "0         MESPTKEIEEFESNSLKYLQPEQIEKIWLRLRGLRKYKKTSQRLRS...  0.155  \n",
       "1         MSDNGELEDKPPAPPVRMSSTIFSTGGKDPLSANHSLKPLPSVPEE...  0.197  \n",
       "2         MRSSLTPLGPPVSRDRVIASFPKWYTPEACLQLREHFHGQVSAACQ...  0.222  \n",
       "3         MDTDSQRSHLSSFTMKLMDKFHSPKIKRTPSKKGKPAEVSVKIPEK...  0.181  \n",
       "4         MSEEKPKEGVKTENDHINLKVAGQDGSVVQFKIKRHTPLSKLMKAY...  0.270  \n",
       "...                                                     ...    ...  \n",
       "11938493  MMASERNQSSTPTFILLGFSEYPEIQVPLFLVFLFVYTVTVVGNLG...  0.213  \n",
       "11938494  MENKTEVTQFILLGLTNDSELQVPLFITFPFIYIITLVGNLGIIVL...  0.151  \n",
       "11938495  MCYGYGCGCGSFCRLGYGCGYEGCRYGCGHRGCGDGCCCPSCYRRY...  0.181  \n",
       "11938496  MDQINHTNVKEFFFLELTRSRELEFFLFVVFFAVYVATVLGNALIV...  0.154  \n",
       "11938497  MEAENLTELSKFLLLGLSDDPELQPVLFGLFLSMYLVTVLGNLLII...  0.167  \n",
       "\n",
       "[10697924 rows x 5 columns]"
      ]
     },
     "execution_count": 30,
     "metadata": {},
     "output_type": "execute_result"
    }
   ],
   "source": [
    "map_df = string_info[[\"#string_protein_id\", \"preferred_name\", \"seq\"]]\n",
    "\n",
    "# Merge mappings\n",
    "string_merge_df = string_df.merge(map_df, left_on=\"protein1\", right_on=\"#string_protein_id\", how=\"left\")\n",
    "string_merge_df = string_merge_df.merge(map_df, left_on=\"protein2\", right_on=\"#string_protein_id\", how=\"left\", suffixes=(\"_a\", \"_b\"))\n",
    "\n",
    "# Keep only UniProt IDs and experimental score\n",
    "string_merge_df = string_merge_df[[\"preferred_name_a\", \"preferred_name_b\", \"seq_a\", \"seq_b\", \"combined_score\"]].dropna()\n",
    "string_merge_df[\"combined_score\"] = string_merge_df[\"combined_score\"] / 1000.0  # Normalize\n",
    "string_merge_df.rename(columns={'combined_score': 'score', 'preferred_name_a': 'seq_name_a', 'preferred_name_b': 'seq_name_b'}, inplace=True)\n",
    "string_merge_df"
   ]
  },
  {
   "cell_type": "code",
   "execution_count": 31,
   "id": "9ad916af",
   "metadata": {},
   "outputs": [
    {
     "data": {
      "text/plain": [
       "(array([1082260.,  819368.,  829660.,  676314.,  627956.,  468646.,\n",
       "         489366.,  418020.,  351350.,  306950.,  300126.,  243880.,\n",
       "         253336.,  215798.,  274702.,  179730.,  198866.,  159974.,\n",
       "         166956.,  120568.,  153664.,  108752.,  121408.,   90234.,\n",
       "          95452.,   83364.,   81808.,   65380.,   87774.,   62306.,\n",
       "          65386.,   56596.,   60506.,   49514.,   48404.,   44736.,\n",
       "          54190.,   45550.,   40866.,   34022.,   33176.,   35382.,\n",
       "          33356.,   30892.,   28178.,   28652.,   26220.,   24506.,\n",
       "          27806.,   21056.,   19072.,   18854.,   16350.,   50786.,\n",
       "          25012.,   23578.,   19164.,   21932.,   21780.,   23454.,\n",
       "          18262.,   18954.,   17044.,   17268.,   13868.,   14996.,\n",
       "          12192.,   15870.,   11250.,   12348.,   10030.,   10524.,\n",
       "           9788.,    9792.,    7656.,    8420.,    9592.,   11252.,\n",
       "           9456.,   10568.,    8520.,    8722.,    7610.,    8202.,\n",
       "           6864.,    7836.,    6518.,    6828.,   35634.,   24310.,\n",
       "          16766.,   16832.,   13002.,   13752.,   11036.,   12366.,\n",
       "          11352.,   13562.,   13778.,   42360.]),\n",
       " array([0.15   , 0.15849, 0.16698, 0.17547, 0.18396, 0.19245, 0.20094,\n",
       "        0.20943, 0.21792, 0.22641, 0.2349 , 0.24339, 0.25188, 0.26037,\n",
       "        0.26886, 0.27735, 0.28584, 0.29433, 0.30282, 0.31131, 0.3198 ,\n",
       "        0.32829, 0.33678, 0.34527, 0.35376, 0.36225, 0.37074, 0.37923,\n",
       "        0.38772, 0.39621, 0.4047 , 0.41319, 0.42168, 0.43017, 0.43866,\n",
       "        0.44715, 0.45564, 0.46413, 0.47262, 0.48111, 0.4896 , 0.49809,\n",
       "        0.50658, 0.51507, 0.52356, 0.53205, 0.54054, 0.54903, 0.55752,\n",
       "        0.56601, 0.5745 , 0.58299, 0.59148, 0.59997, 0.60846, 0.61695,\n",
       "        0.62544, 0.63393, 0.64242, 0.65091, 0.6594 , 0.66789, 0.67638,\n",
       "        0.68487, 0.69336, 0.70185, 0.71034, 0.71883, 0.72732, 0.73581,\n",
       "        0.7443 , 0.75279, 0.76128, 0.76977, 0.77826, 0.78675, 0.79524,\n",
       "        0.80373, 0.81222, 0.82071, 0.8292 , 0.83769, 0.84618, 0.85467,\n",
       "        0.86316, 0.87165, 0.88014, 0.88863, 0.89712, 0.90561, 0.9141 ,\n",
       "        0.92259, 0.93108, 0.93957, 0.94806, 0.95655, 0.96504, 0.97353,\n",
       "        0.98202, 0.99051, 0.999  ]),\n",
       " <BarContainer object of 100 artists>)"
      ]
     },
     "execution_count": 31,
     "metadata": {},
     "output_type": "execute_result"
    },
    {
     "data": {
      "image/png": "[encoded data removed]",
      "text/plain": [
       "<Figure size 432x288 with 1 Axes>"
      ]
     },
     "metadata": {
      "needs_background": "light"
     },
     "output_type": "display_data"
    }
   ],
   "source": [
    "import matplotlib.pyplot as plt\n",
    "plt.hist(string_merge_df['score'], bins=100)"
   ]
  },
  {
   "cell_type": "code",
   "execution_count": null,
   "id": "1b60d8be",
   "metadata": {},
   "outputs": [],
   "source": [
    "# string_merge_df.to_csv(\"human_ppi_interactions.csv\", index=False)\n",
    "# print(f\"Saved dataset with {len(dataset)} interactions to human_ppi_interactions.csv\")"
   ]
  },
  {
   "cell_type": "code",
   "execution_count": 74,
   "id": "410bd1aa",
   "metadata": {},
   "outputs": [],
   "source": [
    "# Assign labels\n",
    "# def assign_label(score):\n",
    "#     if score > 0.75:\n",
    "#         return 1\n",
    "#     elif score < 0.16:\n",
    "#         return 0\n",
    "#     else:\n",
    "#         return float(\"nan\")\n",
    "# interactions = string_merge_df.copy()\n",
    "\n",
    "# interactions[\"label\"] = interactions[\"score\"].apply(assign_label)\n",
    "# interactions = interactions.dropna()\n",
    "# interactions"
   ]
  },
  {
   "cell_type": "code",
   "execution_count": 71,
   "id": "355ecc35",
   "metadata": {},
   "outputs": [
    {
     "data": {
      "text/html": [
       "<div>\n",
       "<style scoped>\n",
       "    .dataframe tbody tr th:only-of-type {\n",
       "        vertical-align: middle;\n",
       "    }\n",
       "\n",
       "    .dataframe tbody tr th {\n",
       "        vertical-align: top;\n",
       "    }\n",
       "\n",
       "    .dataframe thead th {\n",
       "        text-align: right;\n",
       "    }\n",
       "</style>\n",
       "<table border=\"1\" class=\"dataframe\">\n",
       "  <thead>\n",
       "    <tr style=\"text-align: right;\">\n",
       "      <th></th>\n",
       "      <th>seq_name_a</th>\n",
       "      <th>seq_name_b</th>\n",
       "      <th>seq_a</th>\n",
       "      <th>seq_b</th>\n",
       "      <th>score</th>\n",
       "      <th>label</th>\n",
       "    </tr>\n",
       "  </thead>\n",
       "  <tbody>\n",
       "    <tr>\n",
       "      <th>5859261</th>\n",
       "      <td>AK2</td>\n",
       "      <td>FDXACB1</td>\n",
       "      <td>MAPSVPAAEPEYPKGIRAVLLGPPGAGKGTQAPRLAENFCVCHLAT...</td>\n",
       "      <td>MAPRRLLLVGEGNFSFAAALSETLDQSTQLTATCLQRPAELARDPL...</td>\n",
       "      <td>0.150</td>\n",
       "      <td>1</td>\n",
       "    </tr>\n",
       "    <tr>\n",
       "      <th>3963696</th>\n",
       "      <td>NINJ2</td>\n",
       "      <td>DNHD1</td>\n",
       "      <td>MESARENIDLQPGSSDPRSQPINLNHYATKKSVAESMLDVALFMSN...</td>\n",
       "      <td>MVPEERRVGLSSDETSSDSLKSWHSICVLDSKEQPLACQQKQRQFV...</td>\n",
       "      <td>0.150</td>\n",
       "      <td>1</td>\n",
       "    </tr>\n",
       "    <tr>\n",
       "      <th>3963916</th>\n",
       "      <td>NINJ2</td>\n",
       "      <td>KRT71</td>\n",
       "      <td>MESARENIDLQPGSSDPRSQPINLNHYATKKSVAESMLDVALFMSN...</td>\n",
       "      <td>MSRQFTCKSGAAAKGGFSGCSAVLSGGSSSSFRAGSKGLSGGFGSR...</td>\n",
       "      <td>0.150</td>\n",
       "      <td>1</td>\n",
       "    </tr>\n",
       "    <tr>\n",
       "      <th>9377237</th>\n",
       "      <td>RPS14</td>\n",
       "      <td>UBE2D2</td>\n",
       "      <td>MAPRKGKEKKEEQVISLGPQVAEGENVFGVCHIFASFNDTFVHVTD...</td>\n",
       "      <td>MALKRIHKELNDLARDPPAQCSAGPVGDDMFHWQATIMGPNDSPYQ...</td>\n",
       "      <td>0.150</td>\n",
       "      <td>1</td>\n",
       "    </tr>\n",
       "    <tr>\n",
       "      <th>553537</th>\n",
       "      <td>RPL19</td>\n",
       "      <td>DMWD</td>\n",
       "      <td>MSMLRLQKRLASSVLRCGKKKVWLDPNETNEIANANSRQQIRKLIK...</td>\n",
       "      <td>MAAGGAEGGSGPGAAMGDCAEIKSQFRTREGFYKLLPGDGAARRSG...</td>\n",
       "      <td>0.150</td>\n",
       "      <td>1</td>\n",
       "    </tr>\n",
       "    <tr>\n",
       "      <th>...</th>\n",
       "      <td>...</td>\n",
       "      <td>...</td>\n",
       "      <td>...</td>\n",
       "      <td>...</td>\n",
       "      <td>...</td>\n",
       "      <td>...</td>\n",
       "    </tr>\n",
       "    <tr>\n",
       "      <th>5408169</th>\n",
       "      <td>RPS7</td>\n",
       "      <td>RPL12</td>\n",
       "      <td>MFSSSAKIVKPNGEKPDEFESGISQALLELEMNSDLKAQLRELNIT...</td>\n",
       "      <td>MPPKFDPNEIKVVYLRCTGGEVGATSALAPKIGPLGLSPKKVGDDI...</td>\n",
       "      <td>0.999</td>\n",
       "      <td>0</td>\n",
       "    </tr>\n",
       "    <tr>\n",
       "      <th>1384715</th>\n",
       "      <td>CDK7</td>\n",
       "      <td>ERCC2</td>\n",
       "      <td>MALDVKSRAKRYEKLDFLGEGQFATVYKARDKNTNQIVAIKKIKLG...</td>\n",
       "      <td>MKLNVDGLLVYFPYDYIYPEQFSYMRELKRTLDAKGHGVLEMPSGT...</td>\n",
       "      <td>0.999</td>\n",
       "      <td>0</td>\n",
       "    </tr>\n",
       "    <tr>\n",
       "      <th>10313740</th>\n",
       "      <td>RPL37A</td>\n",
       "      <td>RPL12</td>\n",
       "      <td>MAKRTKKVGIVGKYGTRYGASLRKMVKKIEISQHAKYTCSFCGKTK...</td>\n",
       "      <td>MPPKFDPNEIKVVYLRCTGGEVGATSALAPKIGPLGLSPKKVGDDI...</td>\n",
       "      <td>0.999</td>\n",
       "      <td>0</td>\n",
       "    </tr>\n",
       "    <tr>\n",
       "      <th>5287768</th>\n",
       "      <td>FIP1L1</td>\n",
       "      <td>CPSF4</td>\n",
       "      <td>MSAGEVERLVSELSGGTGGDEEEEWLYGGPWDVHVHSDLAKDLDEN...</td>\n",
       "      <td>MQEIIASVDHIKFDLEIAVEQQLGAQPLPFPGMDKSGAAVCEFFLK...</td>\n",
       "      <td>0.999</td>\n",
       "      <td>0</td>\n",
       "    </tr>\n",
       "    <tr>\n",
       "      <th>7665331</th>\n",
       "      <td>PSMB8</td>\n",
       "      <td>PSMA3</td>\n",
       "      <td>MALLDVCGAPRGQRPESALPVAGSGRRSDPGHYSFSMRSPELALPR...</td>\n",
       "      <td>MSSIGTGYDLSASTFSPDGRVFQVEYAMKAVENSSTAIGIRCKDGV...</td>\n",
       "      <td>0.999</td>\n",
       "      <td>0</td>\n",
       "    </tr>\n",
       "  </tbody>\n",
       "</table>\n",
       "<p>1000000 rows × 6 columns</p>\n",
       "</div>"
      ],
      "text/plain": [
       "         seq_name_a seq_name_b  \\\n",
       "5859261         AK2    FDXACB1   \n",
       "3963696       NINJ2      DNHD1   \n",
       "3963916       NINJ2      KRT71   \n",
       "9377237       RPS14     UBE2D2   \n",
       "553537        RPL19       DMWD   \n",
       "...             ...        ...   \n",
       "5408169        RPS7      RPL12   \n",
       "1384715        CDK7      ERCC2   \n",
       "10313740     RPL37A      RPL12   \n",
       "5287768      FIP1L1      CPSF4   \n",
       "7665331       PSMB8      PSMA3   \n",
       "\n",
       "                                                      seq_a  \\\n",
       "5859261   MAPSVPAAEPEYPKGIRAVLLGPPGAGKGTQAPRLAENFCVCHLAT...   \n",
       "3963696   MESARENIDLQPGSSDPRSQPINLNHYATKKSVAESMLDVALFMSN...   \n",
       "3963916   MESARENIDLQPGSSDPRSQPINLNHYATKKSVAESMLDVALFMSN...   \n",
       "9377237   MAPRKGKEKKEEQVISLGPQVAEGENVFGVCHIFASFNDTFVHVTD...   \n",
       "553537    MSMLRLQKRLASSVLRCGKKKVWLDPNETNEIANANSRQQIRKLIK...   \n",
       "...                                                     ...   \n",
       "5408169   MFSSSAKIVKPNGEKPDEFESGISQALLELEMNSDLKAQLRELNIT...   \n",
       "1384715   MALDVKSRAKRYEKLDFLGEGQFATVYKARDKNTNQIVAIKKIKLG...   \n",
       "10313740  MAKRTKKVGIVGKYGTRYGASLRKMVKKIEISQHAKYTCSFCGKTK...   \n",
       "5287768   MSAGEVERLVSELSGGTGGDEEEEWLYGGPWDVHVHSDLAKDLDEN...   \n",
       "7665331   MALLDVCGAPRGQRPESALPVAGSGRRSDPGHYSFSMRSPELALPR...   \n",
       "\n",
       "                                                      seq_b  score  label  \n",
       "5859261   MAPRRLLLVGEGNFSFAAALSETLDQSTQLTATCLQRPAELARDPL...  0.150      1  \n",
       "3963696   MVPEERRVGLSSDETSSDSLKSWHSICVLDSKEQPLACQQKQRQFV...  0.150      1  \n",
       "3963916   MSRQFTCKSGAAAKGGFSGCSAVLSGGSSSSFRAGSKGLSGGFGSR...  0.150      1  \n",
       "9377237   MALKRIHKELNDLARDPPAQCSAGPVGDDMFHWQATIMGPNDSPYQ...  0.150      1  \n",
       "553537    MAAGGAEGGSGPGAAMGDCAEIKSQFRTREGFYKLLPGDGAARRSG...  0.150      1  \n",
       "...                                                     ...    ...    ...  \n",
       "5408169   MPPKFDPNEIKVVYLRCTGGEVGATSALAPKIGPLGLSPKKVGDDI...  0.999      0  \n",
       "1384715   MKLNVDGLLVYFPYDYIYPEQFSYMRELKRTLDAKGHGVLEMPSGT...  0.999      0  \n",
       "10313740  MPPKFDPNEIKVVYLRCTGGEVGATSALAPKIGPLGLSPKKVGDDI...  0.999      0  \n",
       "5287768   MQEIIASVDHIKFDLEIAVEQQLGAQPLPFPGMDKSGAAVCEFFLK...  0.999      0  \n",
       "7665331   MSSIGTGYDLSASTFSPDGRVFQVEYAMKAVENSSTAIGIRCKDGV...  0.999      0  \n",
       "\n",
       "[1000000 rows x 6 columns]"
      ]
     },
     "execution_count": 71,
     "metadata": {},
     "output_type": "execute_result"
    }
   ],
   "source": [
    "interactions = string_merge_df.copy()\n",
    "interactions = interactions.sort_values(by='score', ascending=True)\n",
    "n = 500000\n",
    "top = interactions.head(n).copy()\n",
    "top['label'] = 1\n",
    "bottom = interactions.tail(n).copy()\n",
    "bottom['label'] = 0\n",
    "interactions = pd.concat([top, bottom])\n",
    "interactions"
   ]
  },
  {
   "cell_type": "code",
   "execution_count": 72,
   "id": "c6916995",
   "metadata": {},
   "outputs": [
    {
     "data": {
      "text/plain": [
       "Counter({1: 500000, 0: 500000})"
      ]
     },
     "execution_count": 72,
     "metadata": {},
     "output_type": "execute_result"
    }
   ],
   "source": [
    "from collections import Counter\n",
    "Counter(interactions['label'])"
   ]
  },
  {
   "cell_type": "code",
   "execution_count": 90,
   "id": "7d6d6ed3",
   "metadata": {},
   "outputs": [
    {
     "name": "stdout",
     "output_type": "stream",
     "text": [
      "Saved dataset with 1000000 interactions to human_ppi_interactions_1M.csv\n"
     ]
    }
   ],
   "source": [
    "fname = f\"human_ppi_interactions_{int(2*n/1000000)}M.csv\"\n",
    "interactions.to_csv(fname, index=False)\n",
    "print(f\"Saved dataset with {len(interactions)} interactions to {fname}\")"
   ]
  },
  {
   "cell_type": "code",
   "execution_count": 95,
   "id": "a2bbf989",
   "metadata": {},
   "outputs": [
    {
     "data": {
      "application/vnd.jupyter.widget-view+json": {
       "model_id": "057ede2eec1f4487923887ea8f42dfab",
       "version_major": 2,
       "version_minor": 0
      },
      "text/plain": [
       "Saving the dataset (0/3 shards):   0%|          | 0/800000 [00:00<?, ? examples/s]"
      ]
     },
     "metadata": {},
     "output_type": "display_data"
    },
    {
     "data": {
      "application/vnd.jupyter.widget-view+json": {
       "model_id": "464e4f163fcc4f75a63e0eac0b51ce58",
       "version_major": 2,
       "version_minor": 0
      },
      "text/plain": [
       "Saving the dataset (0/1 shards):   0%|          | 0/100000 [00:00<?, ? examples/s]"
      ]
     },
     "metadata": {},
     "output_type": "display_data"
    },
    {
     "data": {
      "application/vnd.jupyter.widget-view+json": {
       "model_id": "2e10d2d7d8a84a89b3ee60595d5e15bd",
       "version_major": 2,
       "version_minor": 0
      },
      "text/plain": [
       "Saving the dataset (0/1 shards):   0%|          | 0/100000 [00:00<?, ? examples/s]"
      ]
     },
     "metadata": {},
     "output_type": "display_data"
    },
    {
     "name": "stderr",
     "output_type": "stream",
     "text": [
      "/Users/vladimirk/opt/anaconda3/lib/python3.9/site-packages/huggingface_hub/utils/_deprecation.py:131: FutureWarning: 'Repository' (from 'huggingface_hub.repository') is deprecated and will be removed from version '1.0'. Please prefer the http-based alternatives instead. Given its large adoption in legacy code, the complete removal is only planned on next major release.\n",
      "For more details, please read https://huggingface.co/docs/huggingface_hub/concepts/git_vs_http.\n",
      "  warnings.warn(warning_message, FutureWarning)\n",
      "Cloning https://huggingface.co/datasets/vladak/string_ppi_human_1M into local empty directory.\n"
     ]
    },
    {
     "data": {
      "application/vnd.jupyter.widget-view+json": {
       "model_id": "73ad995fbc634b89b67a6644f948337b",
       "version_major": 2,
       "version_minor": 0
      },
      "text/plain": [
       "Upload file data/train/data-00000-of-00003.arrow:   0%|          | 1.00/343M [00:00<?, ?B/s]"
      ]
     },
     "metadata": {},
     "output_type": "display_data"
    },
    {
     "data": {
      "application/vnd.jupyter.widget-view+json": {
       "model_id": "1a7a27bf33d344158f83a2551efc1850",
       "version_major": 2,
       "version_minor": 0
      },
      "text/plain": [
       "Upload file data/test/data-00000-of-00001.arrow:   0%|          | 1.00/128M [00:00<?, ?B/s]"
      ]
     },
     "metadata": {},
     "output_type": "display_data"
    },
    {
     "data": {
      "application/vnd.jupyter.widget-view+json": {
       "model_id": "3f96c38959584eceae7160b19130b507",
       "version_major": 2,
       "version_minor": 0
      },
      "text/plain": [
       "Upload file data/train/data-00002-of-00003.arrow:   0%|          | 1.00/343M [00:00<?, ?B/s]"
      ]
     },
     "metadata": {},
     "output_type": "display_data"
    },
    {
     "data": {
      "application/vnd.jupyter.widget-view+json": {
       "model_id": "8fdfef16cbc949c687d275dbe525ba8b",
       "version_major": 2,
       "version_minor": 0
      },
      "text/plain": [
       "Upload file data/train/data-00001-of-00003.arrow:   0%|          | 1.00/343M [00:00<?, ?B/s]"
      ]
     },
     "metadata": {},
     "output_type": "display_data"
    },
    {
     "data": {
      "application/vnd.jupyter.widget-view+json": {
       "model_id": "1b0dce8208434e7eb0f3ea59ca0acb17",
       "version_major": 2,
       "version_minor": 0
      },
      "text/plain": [
       "Upload file data/validation/data-00000-of-00001.arrow:   0%|          | 1.00/128M [00:00<?, ?B/s]"
      ]
     },
     "metadata": {},
     "output_type": "display_data"
    },
    {
     "name": "stderr",
     "output_type": "stream",
     "text": [
      "remote: \u001b[33m-------------------------------------------------------------------------\u001b[0m        \n",
      "remote: \u001b[33mYour push was accepted, but with warnings: \u001b[0m        \n",
      "remote: \u001b[33m- Warning: empty or missing yaml metadata in repo card\u001b[0m        \n",
      "remote: \u001b[33mhelp: https://huggingface.co/docs/hub/datasets-cards\u001b[0m        \n",
      "remote: \u001b[33m-------------------------------------------------------------------------\u001b[0m        \n",
      "remote: \u001b[32m-------------------------------------------------------------------------\u001b[0m        \n",
      "remote: \u001b[32mPlease find the documentation at:\u001b[0m        \n",
      "remote: \u001b[32mhttps://huggingface.co/docs/hub/model-cards#model-card-metadata\u001b[0m        \n",
      "remote: \u001b[32m\u001b[0m        \n",
      "remote: \u001b[32m-------------------------------------------------------------------------\u001b[0m        \n",
      "To https://huggingface.co/datasets/vladak/string_ppi_human_1M\n",
      "   d86dbd8..74cb6c0  main -> main\n",
      "\n"
     ]
    },
    {
     "data": {
      "text/plain": [
       "'https://huggingface.co/datasets/vladak/string_ppi_human_1M/commit/74cb6c090a820d64034dc4e33224353c3513a954'"
      ]
     },
     "execution_count": 95,
     "metadata": {},
     "output_type": "execute_result"
    }
   ],
   "source": [
    "import pandas as pd\n",
    "from sklearn.model_selection import train_test_split\n",
    "from datasets import Dataset, DatasetDict\n",
    "from huggingface_hub import create_repo, Repository\n",
    "import shutil\n",
    "import os\n",
    "\n",
    "# -------------------------------------\n",
    "# 1. Load interactions DataFrame\n",
    "# -------------------------------------\n",
    "interactions = pd.read_csv(fname)\n",
    "\n",
    "# -------------------------------------\n",
    "# 2. Stratified split (80/10/10)\n",
    "# -------------------------------------\n",
    "train_df, temp_df = train_test_split(\n",
    "    interactions, test_size=0.2, stratify=interactions[\"label\"], random_state=42\n",
    ")\n",
    "val_df, test_df = train_test_split(\n",
    "    temp_df, test_size=0.5, stratify=temp_df[\"label\"], random_state=42\n",
    ")\n",
    "\n",
    "# -------------------------------------\n",
    "# 3. Convert to Hugging Face DatasetDict\n",
    "# -------------------------------------\n",
    "dataset = DatasetDict({\n",
    "    \"train\": Dataset.from_pandas(train_df.reset_index(drop=True)),\n",
    "    \"validation\": Dataset.from_pandas(val_df.reset_index(drop=True)),\n",
    "    \"test\": Dataset.from_pandas(test_df.reset_index(drop=True))\n",
    "})\n",
    "\n",
    "# -------------------------------------\n",
    "# 4. Save dataset to disk\n",
    "# -------------------------------------\n",
    "dataset_dir = \"string_ppi_human_1M\"\n",
    "dataset.save_to_disk(dataset_dir)\n",
    "\n",
    "# -------------------------------------\n",
    "# 5. Dataset description (README.md)\n",
    "# -------------------------------------\n",
    "dataset_description = \"\"\"\n",
    "# STRING PPI Human 1M\n",
    "\n",
    "This dataset contains 1 million human protein–protein interactions (PPIs) derived from STRING v11.5.\n",
    "\n",
    "**Columns**:\n",
    "- `seq_a`, `seq_b`: Amino acid sequences of the interacting proteins (≤2048 AA).\n",
    "- `seq_name_a`, `seq_name_b`: Protein names from STRING.\n",
    "- `score`: Combined score from STRING (0–1000, normalized to 0–1). This score integrates various evidence channels (experimental data, text mining, co-expression, etc.) into a single confidence metric.\n",
    "- `label`: Binary interaction label.\n",
    "  - `1`: High-confidence positive interaction (STRING experimental score > 0.7).\n",
    "  - `0`: Low-confidence negative interaction (STRING experimental score < 0.2).\n",
    "\n",
    "**Processing Steps**:\n",
    "- Downloaded human interactions from STRING (`9606.protein.links.detailed.v11.5.txt.gz`).\n",
    "- Filtered by experimental score thresholds for positives/negatives.\n",
    "- Retrieved protein sequences from UniProt by matching STRING protein names.\n",
    "- Excluded sequences longer than 2048 amino acids.\n",
    "- Balanced top and bottom 500k interactions by combined score.\n",
    "\n",
    "Useful for training models for binary PPI prediction or embedding-based methods.\n",
    "\n",
    "Source: [STRING Database v11.5](https://string-db.org).\n",
    "\"\"\"\n",
    "\n",
    "# -------------------------------------\n",
    "# 6. Create and push to Hugging Face Hub\n",
    "# -------------------------------------\n",
    "repo_id = \"vladak/string_ppi_human_1M\"\n",
    "local_repo_path = \"string_ppi_human_1M_repo\"\n",
    "target_data_dir = os.path.join(local_repo_path, \"data\")\n",
    "\n",
    "# Create and clone the repo (if not already exists)\n",
    "create_repo(repo_id, repo_type=\"dataset\", exist_ok=True)\n",
    "repo = Repository(local_dir=local_repo_path, clone_from=repo_id, repo_type=\"dataset\")\n",
    "\n",
    "# Save README.md\n",
    "readme_path = os.path.join(local_repo_path, \"README.md\")\n",
    "with open(readme_path, \"w\") as f:\n",
    "    f.write(dataset_description.strip())\n",
    "\n",
    "# Ensure the data/ directory is clean\n",
    "if os.path.exists(target_data_dir):\n",
    "    shutil.rmtree(target_data_dir)\n",
    "\n",
    "# Copy dataset files into data/ inside the repo\n",
    "shutil.copytree(dataset_dir, target_data_dir)\n",
    "\n",
    "# Commit and push to Hugging Face Hub\n",
    "dataset.push_to_hub()\n",
    "# Add Readme.md manually\n"
   ]
  },
  {
   "cell_type": "code",
   "execution_count": 100,
   "id": "60914eb7",
   "metadata": {},
   "outputs": [
    {
     "data": {
      "application/vnd.jupyter.widget-view+json": {
       "model_id": "d18fc4a64ac04f19bf279a5851c931c0",
       "version_major": 2,
       "version_minor": 0
      },
      "text/plain": [
       "README.md:   0%|          | 0.00/690 [00:00<?, ?B/s]"
      ]
     },
     "metadata": {},
     "output_type": "display_data"
    },
    {
     "data": {
      "application/vnd.jupyter.widget-view+json": {
       "model_id": "68f3b8f37d5d4650b68974f20d5b74da",
       "version_major": 2,
       "version_minor": 0
      },
      "text/plain": [
       "train-00000-of-00003.parquet:   0%|          | 0.00/334M [00:00<?, ?B/s]"
      ]
     },
     "metadata": {},
     "output_type": "display_data"
    },
    {
     "data": {
      "application/vnd.jupyter.widget-view+json": {
       "model_id": "b1c26b0d6f524a748c207e2ddd5b8136",
       "version_major": 2,
       "version_minor": 0
      },
      "text/plain": [
       "train-00001-of-00003.parquet:   0%|          | 0.00/334M [00:00<?, ?B/s]"
      ]
     },
     "metadata": {},
     "output_type": "display_data"
    },
    {
     "data": {
      "application/vnd.jupyter.widget-view+json": {
       "model_id": "b8f700fb6a394c5891d6e18deb344d20",
       "version_major": 2,
       "version_minor": 0
      },
      "text/plain": [
       "train-00002-of-00003.parquet:   0%|          | 0.00/334M [00:00<?, ?B/s]"
      ]
     },
     "metadata": {},
     "output_type": "display_data"
    },
    {
     "data": {
      "application/vnd.jupyter.widget-view+json": {
       "model_id": "1c6b3b30404340ce8fe5a909fcec299c",
       "version_major": 2,
       "version_minor": 0
      },
      "text/plain": [
       "validation-00000-of-00001.parquet:   0%|          | 0.00/125M [00:00<?, ?B/s]"
      ]
     },
     "metadata": {},
     "output_type": "display_data"
    },
    {
     "data": {
      "application/vnd.jupyter.widget-view+json": {
       "model_id": "4727faeeb7c14f5ea53129bcf1916095",
       "version_major": 2,
       "version_minor": 0
      },
      "text/plain": [
       "test-00000-of-00001.parquet:   0%|          | 0.00/125M [00:00<?, ?B/s]"
      ]
     },
     "metadata": {},
     "output_type": "display_data"
    },
    {
     "data": {
      "application/vnd.jupyter.widget-view+json": {
       "model_id": "983a2a3281004cbb8dddbb8d16594afd",
       "version_major": 2,
       "version_minor": 0
      },
      "text/plain": [
       "Generating train split:   0%|          | 0/800000 [00:00<?, ? examples/s]"
      ]
     },
     "metadata": {},
     "output_type": "display_data"
    },
    {
     "data": {
      "application/vnd.jupyter.widget-view+json": {
       "model_id": "b061fd101dce4029b1b60b519fee688f",
       "version_major": 2,
       "version_minor": 0
      },
      "text/plain": [
       "Generating validation split:   0%|          | 0/100000 [00:00<?, ? examples/s]"
      ]
     },
     "metadata": {},
     "output_type": "display_data"
    },
    {
     "data": {
      "application/vnd.jupyter.widget-view+json": {
       "model_id": "0fe0c1eb67214a2a83a66fb6313e3b9a",
       "version_major": 2,
       "version_minor": 0
      },
      "text/plain": [
       "Generating test split:   0%|          | 0/100000 [00:00<?, ? examples/s]"
      ]
     },
     "metadata": {},
     "output_type": "display_data"
    },
    {
     "name": "stdout",
     "output_type": "stream",
     "text": [
      "DatasetDict({\n",
      "    train: Dataset({\n",
      "        features: ['seq_name_a', 'seq_name_b', 'seq_a', 'seq_b', 'score', 'label'],\n",
      "        num_rows: 800000\n",
      "    })\n",
      "    validation: Dataset({\n",
      "        features: ['seq_name_a', 'seq_name_b', 'seq_a', 'seq_b', 'score', 'label'],\n",
      "        num_rows: 100000\n",
      "    })\n",
      "    test: Dataset({\n",
      "        features: ['seq_name_a', 'seq_name_b', 'seq_a', 'seq_b', 'score', 'label'],\n",
      "        num_rows: 100000\n",
      "    })\n",
      "})\n"
     ]
    }
   ],
   "source": [
    "from datasets import load_dataset\n",
    "\n",
    "# Load the dataset\n",
    "ds = load_dataset(\"vladak/string_ppi_human_1M\")\n",
    "\n",
    "# Print available splits\n",
    "print(ds)"
   ]
  },
  {
   "cell_type": "code",
   "execution_count": 66,
   "id": "b12a8716",
   "metadata": {},
   "outputs": [
    {
     "name": "stdout",
     "output_type": "stream",
     "text": [
      "MTAEEMKATESGAQSAPLPMEGVDISPKQDEGVLKVIKREGTGTEMPMIGDRVFVHYTGWLLDGTKFDSSLDRKDKFSFDLGKGEVIKAWDIAIATMKVGEVCHITCKPEYAYGSAGSPPKIPPNATLVFEVELFEFKGEDLTEEEDGGIIRRIQTRGEGYAKPNEGAIVEVALEGYYKDKLFDQRELRFEIGEGENLDLPYGLERAIQRMEKGEHSIVYLKPSYAFGSVGKEKFQIPPNAELKYELHLKSFEKAKESWEMNSEEKLEQSTIVKERGTVYFKEGKYKQALLQYKKIVSWLEYESSFSNEEAQKAQALRLASHLNLAMCHLKLQAFSAAIESCNKALELDSNNEKGLFRRGEAHLAVNDFELARADFQKVLQLYPNNKAAKTQLAVCQQRIRRQLAREKKLYANMFERLAEEENKAKAEASSGDHPTDTEMKEEQKSNTAGSQSQVETEAMETPPVNTIGEKDTSQPQQEWEKNLRENLDSVIQIRQQPRDPPTETLELEVSPDPASQILEHTQGAEKLVAELEGDSHKSHGSTSQMPETLQASDLWYCPDGSFVKKIVIRGHGLDKPKLGSCCRVLALGFPFGSGPPEGWTELTMGVGPWREETWGELIEKCLESMCQGEEAELQLPGHSGPPVRLTLASFTQGRDSWELETSEKEALAREERARGTELFRAGNPEGAARCYGRALRLLLTLPPPGPPERTVLHANLAACQLLLGQPQLAAQSCDRVLEREPGHLKALYRRGVAQAALGNLEKATADLKKVLAIDPKNRAAQEELGKVVIQGKNQDAGLAQGLRKMFGMTAEEMKATESGAQSAPLPMEGVDISPKQDEGVLKIIGDLKRLLQRLSCGMMPMIGDRVFVHYTGWLLDGTKFDSSLDRKDKFSFDLGKGEVIKAWDIAIATMKVGEVCHITCKPEYAYGSAGSPPKIPPNATLVFEXKEEQKSNTAGSQSQIRKPRLRSXVNDFELARADFQKVLQLYPNNKAAKTQLAVCQQRIRRQLAREKKLYANMFERLAEEENKAPWLTPAIPALCRAKVGGSLEPSR\n",
      "MSVLLRSGLGPLCAVARAAIPFIWRGKYFSSGNEPAENPVTPMLRHLMYKIKSTGPITVAEYMKEVLTNPAKGYYVYRDMLGEKGDFITSPEISQIFGELLGIWFISEWMATGKSTAFQLVELGPGRGTLVGDILRVFTQLGSVLKNCDISVHLVEVSQKLSEIQALTLTKEKVPLERNAGSPVYMKGVTKSGIPISWYRDLHDVPKGYSFYLAHEFFDVLPVHKFQKTPQGWREVFVDIDPQVSDKLRFVLAPSATPAEAFIQHDETRDHVEVCPDAGVIIEELSQRIALTGGAALVADYGHDGTKTDTFRGFCDHKLHDVLIAPGTADLTADVDFSYLRRMAQGKVASLGPIKQHTFLKNMGIDVRLKVLLDKSNEPSVRQQLLQGYDMLMNPKKMGERFNFFALLPHQRLQGGRYQRNARQSKPFASVVAGFSELAWQMLRHLMYKIKSTGPITVAEYMKEVLTNPAKGYYVYRDMLGEKGDFITSPEISQIFGELLGIWFISEWMATGKSTAFQLVELGPGRGTLVGDILRVFTQLGSVLKNCDISVHMLRHLMYKIKSTGPITVAEYMKEVLTNPAKGYYVYRDMLGEKGDFITSPEISQIFGELLGIWFISEWMATGKSTAFQLVELGPGRGTLVGDILRVFTQLGSVLKNCDISVHLVEVSQKLSEIQALTLTKEKVPLERNAGSPVYMKGVTMSVLLRSGLGPLCAVARAAIPFIWRGKYFSSGNEPAENPVTPMLRHLMYKIKSTGPITVAEYMKEVLTNPAKGYYVYRDMLGEKGDFITSPEISQIFGELLGIWFISEWMATGKSTAFQLVELGPGVHSTWICAEKLMLGEKGDFITSPEISQIFGELLGIWFISEWMATGKSTAFQLVELGPGRGTLVGDILRVFTQLGSVLKNCDISVHLVEVSQKLSEIQALTLTKEKVPLERNAGSPVYMKGVTKSGIPISWYRDLHDVPKGYSFYLAHEFFDVLPVHKFQKTPQGWREVFVDIDPQVSDKLRFVLAPSATPAEAFIQHDETRDHVEVCPDAGVIIEELSQRIALTGGAALVADYGHDGTKTDMLRHLMYKIKSTGPITVAEYMKEVLTNPAKGYYVYRDMLGEKGDFITSPEISQIFGELLGIWFISEWMATGKSTAFQLVELGPGRGTLVGDILRVFTQLGSVLKNCDISVHLVEVSQKLSEIQALTLTKEKVPLERNAGSPVYMKGVTKSGIPISWYRDLHDVPKGYSFYLAHEFFDVLPVHKFQKTPQGWREVFVDIDPQVSDKLRFVLAPSATPAEAFIQHDETRDHVEVCPDAGVIIEELSQRIALTGGAALVADYGHDGTKTDGFCDHKLHDVLIAPGTADLTADVDFSYLRRMAQGKVASLGPIKQHTFLKNMGIDVRLKRLQGGRYQRNARQSKPFASVVAGFSELAWQ\n"
     ]
    }
   ],
   "source": [
    "# def get_uniprot_sequence(gene_name):\n",
    "#     url = f\"https://rest.uniprot.org/uniprotkb/search?query=gene_exact:{gene_name}+AND+organism_id:9606&format=fasta\"\n",
    "#     r = requests.get(url)\n",
    "#     if r.ok and r.text:\n",
    "#         # Extract sequence from FASTA\n",
    "#         lines = r.text.split(\"\\n\")\n",
    "#         seq = \"\".join([line for line in lines if not line.startswith(\">\")])\n",
    "#         return seq\n",
    "#     else:\n",
    "#         return None\n",
    "\n",
    "# # Example\n",
    "# print(get_uniprot_sequence(\"FKBP4\"))\n",
    "# print(get_uniprot_sequence(\"NDUFAF7\"))\n"
   ]
  },
  {
   "cell_type": "code",
   "execution_count": null,
   "id": "3d928f49",
   "metadata": {},
   "outputs": [],
   "source": []
  }
 ],
 "metadata": {
  "kernelspec": {
   "display_name": "Python 3 (ipykernel)",
   "language": "python",
   "name": "python3"
  },
  "language_info": {
   "codemirror_mode": {
    "name": "ipython",
    "version": 3
   },
   "file_extension": ".py",
   "mimetype": "text/x-python",
   "name": "python",
   "nbconvert_exporter": "python",
   "pygments_lexer": "ipython3",
   "version": "3.9.12"
  }
 },
 "nbformat": 4,
 "nbformat_minor": 5
}
