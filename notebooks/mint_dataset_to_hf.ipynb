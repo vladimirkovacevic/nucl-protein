{
 "cells": [
  {
   "cell_type": "code",
   "execution_count": 1,
   "id": "18c230d0",
   "metadata": {},
   "outputs": [
    {
     "name": "stderr",
     "output_type": "stream",
     "text": [
      "Fetching Sequences:   2%|██                                                                                                                               | 1/63 [00:00<00:13,  4.50protein/s]"
     ]
    },
    {
     "name": "stdout",
     "output_type": "stream",
     "text": [
      "⚠️ Failed to fetch sequence for Q9WMX2-PRO_0000037550\n"
     ]
    },
    {
     "name": "stderr",
     "output_type": "stream",
     "text": [
      "\r",
      "Fetching Sequences:   3%|████                                                                                                                             | 2/63 [00:00<00:12,  4.72protein/s]"
     ]
    },
    {
     "name": "stdout",
     "output_type": "stream",
     "text": [
      "⚠️ Failed to fetch sequence for P61278-PRO_0000033087\n"
     ]
    },
    {
     "name": "stderr",
     "output_type": "stream",
     "text": [
      "Fetching Sequences:   6%|████████▏                                                                                                                        | 4/63 [00:00<00:11,  4.95protein/s]"
     ]
    },
    {
     "name": "stdout",
     "output_type": "stream",
     "text": [
      "⚠️ Failed to fetch sequence for P0DTD1-PRO_0000449628\n",
      "⚠️ Failed to fetch sequence for P12643-PRO_0000033824\n"
     ]
    },
    {
     "name": "stderr",
     "output_type": "stream",
     "text": [
      "\r",
      "Fetching Sequences:   8%|██████████▏                                                                                                                      | 5/63 [00:01<00:11,  4.92protein/s]"
     ]
    },
    {
     "name": "stdout",
     "output_type": "stream",
     "text": [
      "⚠️ Failed to fetch sequence for O43464-PRO_0000026946\n"
     ]
    },
    {
     "name": "stderr",
     "output_type": "stream",
     "text": [
      "\r",
      "Fetching Sequences:  10%|████████████▎                                                                                                                    | 6/63 [00:01<00:11,  4.82protein/s]"
     ]
    },
    {
     "name": "stdout",
     "output_type": "stream",
     "text": [
      "⚠️ Failed to fetch sequence for P08563-PRO_0000041303\n"
     ]
    },
    {
     "name": "stderr",
     "output_type": "stream",
     "text": [
      "\r",
      "Fetching Sequences:  11%|██████████████▎                                                                                                                  | 7/63 [00:01<00:14,  3.88protein/s]"
     ]
    },
    {
     "name": "stdout",
     "output_type": "stream",
     "text": [
      "⚠️ Failed to fetch sequence for P0DTD1-PRO_0000449621\n"
     ]
    },
    {
     "name": "stderr",
     "output_type": "stream",
     "text": [
      "\r",
      "Fetching Sequences:  13%|████████████████▍                                                                                                                | 8/63 [00:01<00:16,  3.41protein/s]"
     ]
    },
    {
     "name": "stdout",
     "output_type": "stream",
     "text": [
      "⚠️ Failed to fetch sequence for P00734-PRO_0000028160\n"
     ]
    },
    {
     "name": "stderr",
     "output_type": "stream",
     "text": [
      "\r",
      "Fetching Sequences:  14%|██████████████████▍                                                                                                              | 9/63 [00:03<00:31,  1.71protein/s]"
     ]
    },
    {
     "name": "stdout",
     "output_type": "stream",
     "text": [
      "⚠️ Failed to fetch sequence for O91464-PRO_0000448014\n"
     ]
    },
    {
     "name": "stderr",
     "output_type": "stream",
     "text": [
      "\r",
      "Fetching Sequences:  16%|████████████████████▎                                                                                                           | 10/63 [00:03<00:24,  2.14protein/s]"
     ]
    },
    {
     "name": "stdout",
     "output_type": "stream",
     "text": [
      "⚠️ Failed to fetch sequence for P0C6X9-PRO_0000037352\n"
     ]
    },
    {
     "name": "stderr",
     "output_type": "stream",
     "text": [
      "Fetching Sequences:  19%|████████████████████████▍                                                                                                       | 12/63 [00:03<00:16,  3.02protein/s]"
     ]
    },
    {
     "name": "stdout",
     "output_type": "stream",
     "text": [
      "⚠️ Failed to fetch sequence for P01008-PRO_0000032489\n",
      "⚠️ Failed to fetch sequence for P0C6X7-PRO_0000037314\n"
     ]
    },
    {
     "name": "stderr",
     "output_type": "stream",
     "text": [
      "Fetching Sequences:  22%|████████████████████████████▍                                                                                                   | 14/63 [00:04<00:13,  3.74protein/s]"
     ]
    },
    {
     "name": "stdout",
     "output_type": "stream",
     "text": [
      "⚠️ Failed to fetch sequence for Q9Z0X1-PRO_0000022031\n",
      "⚠️ Failed to fetch sequence for Q9WMX2-PRO_0000037541\n"
     ]
    },
    {
     "name": "stderr",
     "output_type": "stream",
     "text": [
      "\r",
      "Fetching Sequences:  24%|██████████████████████████████▍                                                                                                 | 15/63 [00:04<00:11,  4.06protein/s]"
     ]
    },
    {
     "name": "stdout",
     "output_type": "stream",
     "text": [
      "⚠️ Failed to fetch sequence for P0DTD1-PRO_0000449625\n"
     ]
    },
    {
     "name": "stderr",
     "output_type": "stream",
     "text": [
      "Fetching Sequences:  27%|██████████████████████████████████▌                                                                                             | 17/63 [00:04<00:10,  4.45protein/s]"
     ]
    },
    {
     "name": "stdout",
     "output_type": "stream",
     "text": [
      "⚠️ Failed to fetch sequence for P14335-PRO_0000037710\n",
      "⚠️ Failed to fetch sequence for P0DTD1-PRO_0000449623\n"
     ]
    },
    {
     "name": "stderr",
     "output_type": "stream",
     "text": [
      "\r",
      "Fetching Sequences:  29%|████████████████████████████████████▌                                                                                           | 18/63 [00:05<00:09,  4.60protein/s]"
     ]
    },
    {
     "name": "stdout",
     "output_type": "stream",
     "text": [
      "⚠️ Failed to fetch sequence for P12643-PRO_0000033825\n"
     ]
    },
    {
     "name": "stderr",
     "output_type": "stream",
     "text": [
      "\r",
      "Fetching Sequences:  30%|██████████████████████████████████████▌                                                                                         | 19/63 [00:05<00:09,  4.68protein/s]"
     ]
    },
    {
     "name": "stdout",
     "output_type": "stream",
     "text": [
      "⚠️ Failed to fetch sequence for P14335-PRO_0000037713\n"
     ]
    },
    {
     "name": "stderr",
     "output_type": "stream",
     "text": [
      "\r",
      "Fetching Sequences:  32%|████████████████████████████████████████▋                                                                                       | 20/63 [00:05<00:10,  4.07protein/s]"
     ]
    },
    {
     "name": "stdout",
     "output_type": "stream",
     "text": [
      "⚠️ Failed to fetch sequence for P0C6X7-PRO_0000283841\n"
     ]
    },
    {
     "name": "stderr",
     "output_type": "stream",
     "text": [
      "Fetching Sequences:  35%|████████████████████████████████████████████▋                                                                                   | 22/63 [00:05<00:09,  4.44protein/s]"
     ]
    },
    {
     "name": "stdout",
     "output_type": "stream",
     "text": [
      "⚠️ Failed to fetch sequence for Q14118-PRO_0000021066\n",
      "⚠️ Failed to fetch sequence for P0C6X7-PRO_0000037319\n"
     ]
    },
    {
     "name": "stderr",
     "output_type": "stream",
     "text": [
      "\r",
      "Fetching Sequences:  37%|██████████████████████████████████████████████▋                                                                                 | 23/63 [00:06<00:09,  4.41protein/s]"
     ]
    },
    {
     "name": "stdout",
     "output_type": "stream",
     "text": [
      "⚠️ Failed to fetch sequence for P0DTD1-PRO_0000449633\n"
     ]
    },
    {
     "name": "stderr",
     "output_type": "stream",
     "text": [
      "\r",
      "Fetching Sequences:  38%|████████████████████████████████████████████████▊                                                                               | 24/63 [00:06<00:10,  3.68protein/s]"
     ]
    },
    {
     "name": "stdout",
     "output_type": "stream",
     "text": [
      "⚠️ Failed to fetch sequence for P0DTD1-PRO_0000449630\n"
     ]
    },
    {
     "name": "stderr",
     "output_type": "stream",
     "text": [
      "Fetching Sequences:  41%|████████████████████████████████████████████████████▊                                                                           | 26/63 [00:07<00:08,  4.21protein/s]"
     ]
    },
    {
     "name": "stdout",
     "output_type": "stream",
     "text": [
      "⚠️ Failed to fetch sequence for Q9WMX2-PRO_0000037551\n",
      "⚠️ Failed to fetch sequence for P0C6X7-PRO_0000037316\n"
     ]
    },
    {
     "name": "stderr",
     "output_type": "stream",
     "text": [
      "\r",
      "Fetching Sequences:  43%|██████████████████████████████████████████████████████▊                                                                         | 27/63 [00:07<00:08,  4.43protein/s]"
     ]
    },
    {
     "name": "stdout",
     "output_type": "stream",
     "text": [
      "⚠️ Failed to fetch sequence for P0DTD1-PRO_0000449624\n"
     ]
    },
    {
     "name": "stderr",
     "output_type": "stream",
     "text": [
      "Fetching Sequences:  46%|██████████████████████████████████████████████████████████▉                                                                     | 29/63 [00:07<00:07,  4.71protein/s]"
     ]
    },
    {
     "name": "stdout",
     "output_type": "stream",
     "text": [
      "⚠️ Failed to fetch sequence for P0C6X7-PRO_0000037315\n",
      "⚠️ Failed to fetch sequence for P0C6X7-PRO_0000037320\n"
     ]
    },
    {
     "name": "stderr",
     "output_type": "stream",
     "text": [
      "\r",
      "Fetching Sequences:  48%|████████████████████████████████████████████████████████████▉                                                                   | 30/63 [00:07<00:07,  4.60protein/s]"
     ]
    },
    {
     "name": "stdout",
     "output_type": "stream",
     "text": [
      "⚠️ Failed to fetch sequence for P0C6X7-PRO_0000037310\n"
     ]
    },
    {
     "name": "stderr",
     "output_type": "stream",
     "text": [
      "\r",
      "Fetching Sequences:  49%|██████████████████████████████████████████████████████████████▉                                                                 | 31/63 [00:08<00:07,  4.16protein/s]"
     ]
    },
    {
     "name": "stdout",
     "output_type": "stream",
     "text": [
      "⚠️ Failed to fetch sequence for P19838-PRO_0000030311\n"
     ]
    },
    {
     "name": "stderr",
     "output_type": "stream",
     "text": [
      "\r",
      "Fetching Sequences:  51%|█████████████████████████████████████████████████████████████████                                                               | 32/63 [00:08<00:07,  4.26protein/s]"
     ]
    },
    {
     "name": "stdout",
     "output_type": "stream",
     "text": [
      "⚠️ Failed to fetch sequence for P61278-PRO_0000033088\n"
     ]
    },
    {
     "name": "stderr",
     "output_type": "stream",
     "text": [
      "\r",
      "Fetching Sequences:  52%|███████████████████████████████████████████████████████████████████                                                             | 33/63 [00:08<00:09,  3.31protein/s]"
     ]
    },
    {
     "name": "stdout",
     "output_type": "stream",
     "text": [
      "⚠️ Failed to fetch sequence for Q9WMX2-PRO_0000037547\n"
     ]
    },
    {
     "name": "stderr",
     "output_type": "stream",
     "text": [
      "Fetching Sequences:  56%|███████████████████████████████████████████████████████████████████████                                                         | 35/63 [00:09<00:08,  3.32protein/s]"
     ]
    },
    {
     "name": "stdout",
     "output_type": "stream",
     "text": [
      "⚠️ Failed to fetch sequence for Q969J5-PRO_0000011016\n",
      "⚠️ Failed to fetch sequence for P08563-PRO_0000041302\n"
     ]
    },
    {
     "name": "stderr",
     "output_type": "stream",
     "text": [
      "\r",
      "Fetching Sequences:  57%|█████████████████████████████████████████████████████████████████████████▏                                                      | 36/63 [00:09<00:07,  3.61protein/s]"
     ]
    },
    {
     "name": "stdout",
     "output_type": "stream",
     "text": [
      "⚠️ Failed to fetch sequence for P0C6X7-PRO_0000037309\n"
     ]
    },
    {
     "name": "stderr",
     "output_type": "stream",
     "text": [
      "\r",
      "Fetching Sequences:  59%|███████████████████████████████████████████████████████████████████████████▏                                                    | 37/63 [00:09<00:06,  3.88protein/s]"
     ]
    },
    {
     "name": "stdout",
     "output_type": "stream",
     "text": [
      "⚠️ Failed to fetch sequence for P0DTD1-PRO_0000449622\n"
     ]
    },
    {
     "name": "stderr",
     "output_type": "stream",
     "text": [
      "Fetching Sequences:  62%|███████████████████████████████████████████████████████████████████████████████▏                                                | 39/63 [00:10<00:05,  4.40protein/s]"
     ]
    },
    {
     "name": "stdout",
     "output_type": "stream",
     "text": [
      "⚠️ Failed to fetch sequence for Q86500-PRO_0000041225\n",
      "⚠️ Failed to fetch sequence for P0DTD1-PRO_0000449631\n"
     ]
    },
    {
     "name": "stderr",
     "output_type": "stream",
     "text": [
      "Fetching Sequences:  65%|███████████████████████████████████████████████████████████████████████████████████▎                                            | 41/63 [00:10<00:04,  4.71protein/s]"
     ]
    },
    {
     "name": "stdout",
     "output_type": "stream",
     "text": [
      "⚠️ Failed to fetch sequence for P14340-PRO_0000037965\n",
      "⚠️ Failed to fetch sequence for Q9GZX6-PRO_0000015383\n"
     ]
    },
    {
     "name": "stderr",
     "output_type": "stream",
     "text": [
      "\r",
      "Fetching Sequences:  67%|█████████████████████████████████████████████████████████████████████████████████████▎                                          | 42/63 [00:10<00:04,  4.79protein/s]"
     ]
    },
    {
     "name": "stdout",
     "output_type": "stream",
     "text": [
      "⚠️ Failed to fetch sequence for P0DTD1-PRO_0000449627\n"
     ]
    },
    {
     "name": "stderr",
     "output_type": "stream",
     "text": [
      "\r",
      "Fetching Sequences:  68%|███████████████████████████████████████████████████████████████████████████████████████▎                                        | 43/63 [00:11<00:04,  4.68protein/s]"
     ]
    },
    {
     "name": "stdout",
     "output_type": "stream",
     "text": [
      "⚠️ Failed to fetch sequence for Q9WMX2-PRO_0000037552\n"
     ]
    },
    {
     "name": "stderr",
     "output_type": "stream",
     "text": [
      "\r",
      "Fetching Sequences:  70%|█████████████████████████████████████████████████████████████████████████████████████████▍                                      | 44/63 [00:11<00:04,  4.61protein/s]"
     ]
    },
    {
     "name": "stdout",
     "output_type": "stream",
     "text": [
      "⚠️ Failed to fetch sequence for P0DTD1-PRO_0000449632\n"
     ]
    },
    {
     "name": "stderr",
     "output_type": "stream",
     "text": [
      "\r",
      "Fetching Sequences:  71%|███████████████████████████████████████████████████████████████████████████████████████████▍                                    | 45/63 [00:11<00:03,  4.64protein/s]"
     ]
    },
    {
     "name": "stdout",
     "output_type": "stream",
     "text": [
      "⚠️ Failed to fetch sequence for Q86500-PRO_0000041224\n"
     ]
    },
    {
     "name": "stderr",
     "output_type": "stream",
     "text": [
      "\r",
      "Fetching Sequences:  73%|█████████████████████████████████████████████████████████████████████████████████████████████▍                                  | 46/63 [00:11<00:03,  4.66protein/s]"
     ]
    },
    {
     "name": "stdout",
     "output_type": "stream",
     "text": [
      "⚠️ Failed to fetch sequence for O91464-PRO_0000448015\n"
     ]
    },
    {
     "name": "stderr",
     "output_type": "stream",
     "text": [
      "Fetching Sequences:  76%|█████████████████████████████████████████████████████████████████████████████████████████████████▌                              | 48/63 [00:12<00:03,  4.76protein/s]"
     ]
    },
    {
     "name": "stdout",
     "output_type": "stream",
     "text": [
      "⚠️ Failed to fetch sequence for P0C6X7-PRO_0000037312\n",
      "⚠️ Failed to fetch sequence for P0DTD1-PRO_0000449629\n"
     ]
    },
    {
     "name": "stderr",
     "output_type": "stream",
     "text": [
      "\r",
      "Fetching Sequences:  78%|███████████████████████████████████████████████████████████████████████████████████████████████████▌                            | 49/63 [00:12<00:02,  4.76protein/s]"
     ]
    },
    {
     "name": "stdout",
     "output_type": "stream",
     "text": [
      "⚠️ Failed to fetch sequence for P0DTD1-PRO_0000449620\n"
     ]
    },
    {
     "name": "stderr",
     "output_type": "stream",
     "text": [
      "\r",
      "Fetching Sequences:  79%|█████████████████████████████████████████████████████████████████████████████████████████████████████▌                          | 50/63 [00:12<00:03,  4.26protein/s]"
     ]
    },
    {
     "name": "stdout",
     "output_type": "stream",
     "text": [
      "⚠️ Failed to fetch sequence for P00742-PRO_0000027787\n",
      "💾 Saved cache after 50 sequences\n"
     ]
    },
    {
     "name": "stderr",
     "output_type": "stream",
     "text": [
      "\r",
      "Fetching Sequences:  81%|███████████████████████████████████████████████████████████████████████████████████████████████████████▌                        | 51/63 [00:12<00:02,  4.59protein/s]"
     ]
    },
    {
     "name": "stdout",
     "output_type": "stream",
     "text": [
      "⚠️ Failed to fetch sequence for P0DTD1-PRO_0000449626\n"
     ]
    },
    {
     "name": "stderr",
     "output_type": "stream",
     "text": [
      "Fetching Sequences:  84%|███████████████████████████████████████████████████████████████████████████████████████████████████████████▋                    | 53/63 [00:13<00:02,  4.73protein/s]"
     ]
    },
    {
     "name": "stdout",
     "output_type": "stream",
     "text": [
      "⚠️ Failed to fetch sequence for P0DTD1-PRO_0000449619\n",
      "⚠️ Failed to fetch sequence for Q9BXJ0-PRO_0000003535\n"
     ]
    },
    {
     "name": "stderr",
     "output_type": "stream",
     "text": [
      "\r",
      "Fetching Sequences:  86%|█████████████████████████████████████████████████████████████████████████████████████████████████████████████▋                  | 54/63 [00:13<00:01,  4.79protein/s]"
     ]
    },
    {
     "name": "stdout",
     "output_type": "stream",
     "text": [
      "⚠️ Failed to fetch sequence for P0C6X7-PRO_0000037322\n"
     ]
    },
    {
     "name": "stderr",
     "output_type": "stream",
     "text": [
      "\r",
      "Fetching Sequences:  87%|███████████████████████████████████████████████████████████████████████████████████████████████████████████████▋                | 55/63 [00:13<00:02,  3.39protein/s]"
     ]
    },
    {
     "name": "stdout",
     "output_type": "stream",
     "text": [
      "⚠️ Failed to fetch sequence for P0C6X7-PRO_0000037313\n"
     ]
    },
    {
     "name": "stderr",
     "output_type": "stream",
     "text": [
      "\r",
      "Fetching Sequences:  89%|█████████████████████████████████████████████████████████████████████████████████████████████████████████████████▊              | 56/63 [00:15<00:04,  1.60protein/s]"
     ]
    },
    {
     "name": "stdout",
     "output_type": "stream",
     "text": [
      "⚠️ Failed to fetch sequence for P10071-PRO_0000406137\n"
     ]
    },
    {
     "name": "stderr",
     "output_type": "stream",
     "text": [
      "\r",
      "Fetching Sequences:  90%|███████████████████████████████████████████████████████████████████████████████████████████████████████████████████▊            | 57/63 [00:15<00:03,  1.97protein/s]"
     ]
    },
    {
     "name": "stdout",
     "output_type": "stream",
     "text": [
      "⚠️ Failed to fetch sequence for O91464-PRO_0000448012\n"
     ]
    },
    {
     "name": "stderr",
     "output_type": "stream",
     "text": [
      "\r",
      "Fetching Sequences:  92%|█████████████████████████████████████████████████████████████████████████████████████████████████████████████████████▊          | 58/63 [00:15<00:02,  2.40protein/s]"
     ]
    },
    {
     "name": "stdout",
     "output_type": "stream",
     "text": [
      "⚠️ Failed to fetch sequence for P01024-PRO_0000005911\n"
     ]
    },
    {
     "name": "stderr",
     "output_type": "stream",
     "text": [
      "Fetching Sequences:  95%|█████████████████████████████████████████████████████████████████████████████████████████████████████████████████████████▉      | 60/63 [00:16<00:00,  3.27protein/s]"
     ]
    },
    {
     "name": "stdout",
     "output_type": "stream",
     "text": [
      "⚠️ Failed to fetch sequence for P0C6X7-PRO_0000037311\n",
      "⚠️ Failed to fetch sequence for P0C6X7-PRO_0000037318\n"
     ]
    },
    {
     "name": "stderr",
     "output_type": "stream",
     "text": [
      "\r",
      "Fetching Sequences:  97%|███████████████████████████████████████████████████████████████████████████████████████████████████████████████████████████▉    | 61/63 [00:16<00:00,  3.64protein/s]"
     ]
    },
    {
     "name": "stdout",
     "output_type": "stream",
     "text": [
      "⚠️ Failed to fetch sequence for Q99757-PRO_0000034150\n"
     ]
    },
    {
     "name": "stderr",
     "output_type": "stream",
     "text": [
      "\r",
      "Fetching Sequences:  98%|█████████████████████████████████████████████████████████████████████████████████████████████████████████████████████████████▉  | 62/63 [00:16<00:00,  3.87protein/s]"
     ]
    },
    {
     "name": "stdout",
     "output_type": "stream",
     "text": [
      "⚠️ Failed to fetch sequence for P0C6X7-PRO_0000037321\n"
     ]
    },
    {
     "name": "stderr",
     "output_type": "stream",
     "text": [
      "Fetching Sequences: 100%|████████████████████████████████████████████████████████████████████████████████████████████████████████████████████████████████| 63/63 [00:16<00:00,  3.74protein/s]"
     ]
    },
    {
     "name": "stdout",
     "output_type": "stream",
     "text": [
      "⚠️ Failed to fetch sequence for P08563-PRO_0000041304\n",
      "✅ FASTA file saved as protein_sequences.fasta\n",
      "✅ Cached sequences saved as protein_sequences.json\n"
     ]
    },
    {
     "name": "stderr",
     "output_type": "stream",
     "text": [
      "\n"
     ]
    }
   ],
   "source": [
    "import os\n",
    "import json\n",
    "import requests\n",
    "from tqdm import tqdm  # Progress bar\n",
    "\n",
    "# File paths\n",
    "INPUT_FILE = \"../data/mint/species_human.txt\"  # https://mint.bio.uniroma2.it/index.php/download/\n",
    "CACHE_FILE = \"protein_sequences.json\"\n",
    "FASTA_FILE = \"protein_sequences.fasta\"\n",
    "UNIPROT_API = \"https://rest.uniprot.org/uniprotkb/{}.fasta\"\n",
    "SAVE_EVERY = 50  # Save cache after every 50 sequences\n",
    "\n",
    "def load_cache():\n",
    "    \"\"\"Load cached sequences from a JSON file if it exists.\"\"\"\n",
    "    if os.path.exists(CACHE_FILE):\n",
    "        with open(CACHE_FILE, \"r\") as f:\n",
    "            return json.load(f)\n",
    "    return {}\n",
    "\n",
    "def save_cache(cache):\n",
    "    \"\"\"Save updated sequences to the cache file.\"\"\"\n",
    "    with open(CACHE_FILE, \"w\") as f:\n",
    "        json.dump(cache, f, indent=4)\n",
    "\n",
    "def fetch_uniprot_sequence(uniprot_id, cache):\n",
    "    \"\"\"Fetch a sequence from UniProt, using cache if available.\"\"\"\n",
    "    if uniprot_id in cache:\n",
    "        print(f'Found {uniprot_id} in cache.')\n",
    "        return cache[uniprot_id]  # Return cached sequence\n",
    "    \n",
    "    url = UNIPROT_API.format(uniprot_id)\n",
    "    response = requests.get(url)\n",
    "    \n",
    "    if response.status_code == 200:\n",
    "        lines = response.text.split(\"\\n\")\n",
    "        sequence = \"\".join(lines[1:])  # Remove FASTA header\n",
    "        cache[uniprot_id] = sequence  # Update cache\n",
    "        return sequence\n",
    "    else:\n",
    "        print(f\"⚠️ Failed to fetch sequence for {uniprot_id}\")\n",
    "        return None\n",
    "\n",
    "# Load existing cache\n",
    "sequence_cache = load_cache()\n",
    "\n",
    "# Read UniProt IDs from file\n",
    "uniprot_ids = set()\n",
    "with open(INPUT_FILE, \"r\") as file:\n",
    "    for line in file:\n",
    "        columns = line.strip().split(\"\\t\")\n",
    "        for col in columns[:2]:  # First two columns contain UniProtKB IDs\n",
    "            if col.startswith(\"uniprotkb:\"):\n",
    "                uniprot_ids.add(col.split(\":\")[1])\n",
    "\n",
    "# Filter out already cached IDs\n",
    "unprocessed_ids = [uid for uid in uniprot_ids if uid not in sequence_cache]\n",
    "\n",
    "# Fetch and store sequences with progress bar\n",
    "sequences = {}\n",
    "for i, uid in enumerate(tqdm(unprocessed_ids, desc=\"Fetching Sequences\", unit=\"protein\")):\n",
    "    sequences[uid] = fetch_uniprot_sequence(uid, sequence_cache)\n",
    "    \n",
    "    # Save cache every 50 sequences\n",
    "    if (i + 1) % SAVE_EVERY == 0:\n",
    "        save_cache(sequence_cache)\n",
    "        print(f\"💾 Saved cache after {i + 1} sequences\")\n",
    "\n",
    "# Final save\n",
    "save_cache(sequence_cache)\n",
    "\n",
    "# Write sequences to a FASTA file\n",
    "with open(FASTA_FILE, \"w\") as fasta_file:\n",
    "    for uid, seq in sequence_cache.items():\n",
    "        if seq:\n",
    "            fasta_file.write(f\">{uid}\\n{seq}\\n\")\n",
    "\n",
    "print(f\"✅ FASTA file saved as {FASTA_FILE}\")\n",
    "print(f\"✅ Cached sequences saved as {CACHE_FILE}\")\n"
   ]
  },
  {
   "cell_type": "code",
   "execution_count": 2,
   "id": "4271afdf",
   "metadata": {},
   "outputs": [
    {
     "name": "stderr",
     "output_type": "stream",
     "text": [
      "Processing rows: 100%|██████████████████████████████████████████████████████████████████████████████████████████████████████████████████████████████| 76465/76465 [00:00<00:00, 278591.62it/s]\n"
     ]
    },
    {
     "name": "stdout",
     "output_type": "stream",
     "text": [
      "Skipping row due to conversion error: uniprotkb:O14757\t-\tintact:EBI-974488|uniprotkb:B4DDD0|uniprotkb:F5H7S4|uniprotkb:A8K934|uniprotkb:B4DSK3|uniprotkb:B5BTY6|uniprotkb:H2BI51|ensembl:ENSP00000388648.1|ensembl:ENSP00000412504.2|ensembl:ENSP00000432890.1|ensembl:ENSP00000435371.1|ensembl:ENSP00000481616.2\t-\tpsi-mi:chk1_human(display_long)|uniprotkb:CHEK1(gene name)|psi-mi:CHEK1(display_short)|uniprotkb:CHK1(gene name synonym)|uniprotkb:CHK1 checkpoint homolog(gene name synonym)|uniprotkb:Checkpoint kinase-1(gene name synonym)|uniprotkb:Cell cycle checkpoint kinase(gene name synonym)\t-\tpsi-mi:\"MI:0424\"(protein kinase assay)\tOkita et al. (2012)\tpubmed:23068608|mint:MINT-8393704\ttaxid:9606(human)|taxid:9606(Homo sapiens)\t-\tpsi-mi:\"MI:0217\"(phosphorylation reaction)\tpsi-mi:\"MI:0471\"(MINT)\tintact:EBI-8086436|mint:MINT-8394892\t-\n",
      "Skipping row due to conversion error: uniprotkb:O14757\t-\tintact:EBI-974488|uniprotkb:B4DDD0|uniprotkb:F5H7S4|uniprotkb:A8K934|uniprotkb:B4DSK3|uniprotkb:B5BTY6|uniprotkb:H2BI51|ensembl:ENSP00000388648.1|ensembl:ENSP00000412504.2|ensembl:ENSP00000432890.1|ensembl:ENSP00000435371.1|ensembl:ENSP00000481616.2\t-\tpsi-mi:chk1_human(display_long)|uniprotkb:CHEK1(gene name)|psi-mi:CHEK1(display_short)|uniprotkb:CHK1(gene name synonym)|uniprotkb:CHK1 checkpoint homolog(gene name synonym)|uniprotkb:Checkpoint kinase-1(gene name synonym)|uniprotkb:Cell cycle checkpoint kinase(gene name synonym)\t-\tpsi-mi:\"MI:0424\"(protein kinase assay)\tOkita et al. (2012)\tpubmed:23068608|mint:MINT-8393704\ttaxid:9606(human)|taxid:9606(Homo sapiens)\t-\tpsi-mi:\"MI:0217\"(phosphorylation reaction)\tpsi-mi:\"MI:0471\"(MINT)\tintact:EBI-8086477|mint:MINT-8394912\t-\n",
      "Skipping row due to conversion error: uniprotkb:O14757\t-\tintact:EBI-974488|uniprotkb:B4DDD0|uniprotkb:F5H7S4|uniprotkb:A8K934|uniprotkb:B4DSK3|uniprotkb:B5BTY6|uniprotkb:H2BI51|ensembl:ENSP00000388648.1|ensembl:ENSP00000412504.2|ensembl:ENSP00000432890.1|ensembl:ENSP00000435371.1|ensembl:ENSP00000481616.2\t-\tpsi-mi:chk1_human(display_long)|uniprotkb:CHEK1(gene name)|psi-mi:CHEK1(display_short)|uniprotkb:CHK1(gene name synonym)|uniprotkb:CHK1 checkpoint homolog(gene name synonym)|uniprotkb:Checkpoint kinase-1(gene name synonym)|uniprotkb:Cell cycle checkpoint kinase(gene name synonym)\t-\tpsi-mi:\"MI:0424\"(protein kinase assay)\tOkita et al. (2012)\tpubmed:23068608|mint:MINT-8393704\ttaxid:9606(human)|taxid:9606(Homo sapiens)\t-\tpsi-mi:\"MI:0217\"(phosphorylation reaction)\tpsi-mi:\"MI:0471\"(MINT)\tintact:EBI-8086522|mint:MINT-8394963\t-\n",
      "Skipping row due to conversion error: uniprotkb:Q99640\t-\tintact:EBI-495308|uniprotkb:O14731|uniprotkb:Q7LE24|uniprotkb:Q8TCM9|uniprotkb:D3DUA4|uniprotkb:F8W164|uniprotkb:B3KUN8|uniprotkb:B4DXD4|uniprotkb:I3L1V2|intact:EBI-10963121|ensembl:ENSP00000262300.8\t-\tpsi-mi:pmyt1_human(display_long)|uniprotkb:Myt1 kinase(gene name synonym)|uniprotkb:PKMYT1(gene name)|psi-mi:PKMYT1(display_short)|uniprotkb:MYT1(gene name synonym)\t-\tpsi-mi:\"MI:0424\"(protein kinase assay)\tVilleneuve et al. (2013)\tpubmed:23241949|imex:IM-18740|mint:MINT-8412360\ttaxid:9606(human)|taxid:9606(Homo sapiens)\t-\tpsi-mi:\"MI:0217\"(phosphorylation reaction)\tpsi-mi:\"MI:0471\"(MINT)\tintact:EBI-8280029|mint:MINT-8412425|imex:IM-18740-4\t-\n",
      "Skipping row due to conversion error: uniprotkb:Q9H2X6\t-\tintact:EBI-348345|uniprotkb:Q75MR7|uniprotkb:Q8WWI4|uniprotkb:Q9H2Y1|ensembl:ENSP00000385571.3\t-\tpsi-mi:hipk2_human(display_long)|uniprotkb:HIPK2(gene name)|psi-mi:HIPK2(display_short)\t-\tpsi-mi:\"MI:0424\"(protein kinase assay)\tWalte et al. (2013)\tmint:MINT-8433592|mint:fj-13-0101|pubmed:23809146\ttaxid:9606(human)|taxid:9606(Homo sapiens)\t-\tpsi-mi:\"MI:0217\"(phosphorylation reaction)\tpsi-mi:\"MI:0471\"(MINT)\tintact:EBI-8538272|mint:MINT-8433597\t-\n",
      "Skipping row due to conversion error: uniprotkb:P49759\t-\tintact:EBI-473775|uniprotkb:Q8N5V8|uniprotkb:Q0P694|intact:EBI-2622912|uniprotkb:B4DFW7|ensembl:ENSP00000326830.4\t-\tpsi-mi:clk1_human(display_long)|uniprotkb:CDC-like kinase 1(gene name synonym)|uniprotkb:CLK1(gene name)|psi-mi:CLK1(display_short)|uniprotkb:CLK(gene name synonym)\t-\tpsi-mi:\"MI:0424\"(protein kinase assay)\tWalte et al. (2013)\tmint:MINT-8433592|mint:fj-13-0101|pubmed:23809146\ttaxid:9606(human)|taxid:9606(Homo sapiens)\t-\tpsi-mi:\"MI:0217\"(phosphorylation reaction)\tpsi-mi:\"MI:0471\"(MINT)\tintact:EBI-8538298|mint:MINT-8433639\t-\n",
      "Skipping row due to conversion error: uniprotkb:P11309-1\t-\tintact:EBI-1018629|ensembl:ENSP00000362608.5\t-\tpsi-mi:p11309-1(display_long)|uniprotkb:Pim-1(isoform synonym)|uniprotkb:PIM1(gene name)|psi-mi:PIM1(display_short)\t-\tpsi-mi:\"MI:0096\"(pull down)\tMorishita et al. (2008)\tpubmed:18593906|mint:MINT-8008495|doi:10.1158/0008-5472.CAN-08-0634|imex:IM-24360\ttaxid:9606(human)|taxid:9606(Homo sapiens)\t-\tpsi-mi:\"MI:0217\"(phosphorylation reaction)\tpsi-mi:\"MI:0471\"(MINT)\tintact:EBI-10901813|imex:IM-24360-5\t-\n",
      "Skipping row due to conversion error: uniprotkb:O14757\t-\tintact:EBI-974488|uniprotkb:B4DDD0|uniprotkb:F5H7S4|uniprotkb:A8K934|uniprotkb:B4DSK3|uniprotkb:B5BTY6|uniprotkb:H2BI51|ensembl:ENSP00000388648.1|ensembl:ENSP00000412504.2|ensembl:ENSP00000432890.1|ensembl:ENSP00000435371.1|ensembl:ENSP00000481616.2\t-\tpsi-mi:chk1_human(display_long)|uniprotkb:CHEK1(gene name)|psi-mi:CHEK1(display_short)|uniprotkb:CHK1(gene name synonym)|uniprotkb:CHK1 checkpoint homolog(gene name synonym)|uniprotkb:Checkpoint kinase-1(gene name synonym)|uniprotkb:Cell cycle checkpoint kinase(gene name synonym)\t-\tpsi-mi:\"MI:0424\"(protein kinase assay)\tKasahara et al. (2010)\tpubmed:20639859|imex:IM-15120|mint:MINT-8010047|doi:10.1038/emboj.2010.157\ttaxid:9606(human)|taxid:9606(Homo sapiens)\t-\tpsi-mi:\"MI:0217\"(phosphorylation reaction)\tpsi-mi:\"MI:0471\"(MINT)\tintact:EBI-8082283|mint:MINT-8040966|imex:IM-15120-11\t-\n",
      "Skipping row due to conversion error: uniprotkb:O14757\t-\tintact:EBI-974488|uniprotkb:B4DDD0|uniprotkb:F5H7S4|uniprotkb:A8K934|uniprotkb:B4DSK3|uniprotkb:B5BTY6|uniprotkb:H2BI51|ensembl:ENSP00000388648.1|ensembl:ENSP00000412504.2|ensembl:ENSP00000432890.1|ensembl:ENSP00000435371.1|ensembl:ENSP00000481616.2\t-\tpsi-mi:chk1_human(display_long)|uniprotkb:CHEK1(gene name)|psi-mi:CHEK1(display_short)|uniprotkb:CHK1(gene name synonym)|uniprotkb:CHK1 checkpoint homolog(gene name synonym)|uniprotkb:Checkpoint kinase-1(gene name synonym)|uniprotkb:Cell cycle checkpoint kinase(gene name synonym)\t-\tpsi-mi:\"MI:0424\"(protein kinase assay)\tKasahara et al. (2010)\tpubmed:20639859|imex:IM-15120|mint:MINT-8010047|doi:10.1038/emboj.2010.157\ttaxid:9606(human)|taxid:9606(Homo sapiens)\t-\tpsi-mi:\"MI:0217\"(phosphorylation reaction)\tpsi-mi:\"MI:0471\"(MINT)\tintact:EBI-8082261|mint:MINT-8040951|imex:IM-15120-10\t-\n",
      "Skipping row due to conversion error: uniprotkb:P17948\t-\tintact:EBI-1026718|uniprotkb:B0LPF1|uniprotkb:B3FR89|uniprotkb:B5A923|uniprotkb:O60722|uniprotkb:P16057|uniprotkb:Q12954|uniprotkb:A8KA71|ensembl:ENSP00000282397.4|uniprotkb:A3E342|uniprotkb:A3E344|uniprotkb:B2BF46|uniprotkb:B2BF47|uniprotkb:F5H5L6|uniprotkb:B2BF48\t-\tpsi-mi:vgfr1_human(display_long)|uniprotkb:Vascular permeability factor receptor(gene name synonym)|uniprotkb:Tyrosine-protein kinase receptor FLT(gene name synonym)|uniprotkb:Tyrosine-protein kinase FRT(gene name synonym)|uniprotkb:Fms-like tyrosine kinase 1(gene name synonym)|uniprotkb:FLT1(gene name)|psi-mi:FLT1(display_short)|uniprotkb:FLT(gene name synonym)|uniprotkb:FRT(gene name synonym)|uniprotkb:VEGFR1(gene name synonym)\t-\tpsi-mi:\"MI:0424\"(protein kinase assay)\tCunningham et al. (1995)\tmint:MINT-6730410|pubmed:7657594|imex:IM-28216\ttaxid:9606(human)|taxid:9606(Homo sapiens)\t-\tpsi-mi:\"MI:0407\"(direct interaction)\tpsi-mi:\"MI:0471\"(MINT)\tintact:EBI-25763951|imex:IM-28216-3\t-\n",
      "Skipping row due to conversion error: uniprotkb:O15075\t-\tintact:EBI-2684263|uniprotkb:Q5VZZ1|uniprotkb:B7Z3E9|uniprotkb:Q5VZY8|uniprotkb:Q5VZZ0|ensembl:ENSP00000353846.3\t-\tpsi-mi:dclk1_human(display_long)|uniprotkb:DCAMKL1(gene name synonym)|uniprotkb:DCDC3A(gene name synonym)|uniprotkb:KIAA0369(gene name synonym)|uniprotkb:Doublecortin-like and CAM kinase-like 1(gene name synonym)|uniprotkb:Doublecortin-like kinase 1(gene name synonym)|uniprotkb:Doublecortin domain-containing protein 3A(gene name synonym)|uniprotkb:DCLK1(gene name)|psi-mi:DCLK1(display_short)\t-\tpsi-mi:\"MI:0424\"(protein kinase assay)\tVázquez-Vélez et al. (2020)\timex:IM-28689|pubmed:31748376\ttaxid:9606(human)|taxid:9606(Homo sapiens)\t-\tpsi-mi:\"MI:0217\"(phosphorylation reaction)\tpsi-mi:\"MI:0471\"(MINT)\tintact:EBI-26615670|imex:IM-28689-6\t-\n"
     ]
    },
    {
     "data": {
      "image/png": "[encoded data removed]",
      "text/plain": [
       "<Figure size 432x288 with 1 Axes>"
      ]
     },
     "metadata": {
      "needs_background": "light"
     },
     "output_type": "display_data"
    },
    {
     "name": "stdout",
     "output_type": "stream",
     "text": [
      "Total number of pairs processed: 76454\n",
      "Number of pairs removed due to missing sequences: 1338\n",
      "Number of pairs removed due to length > 1024: 22944\n",
      "Number of pairs removed due to conversion errors: 11\n"
     ]
    }
   ],
   "source": [
    "import json\n",
    "import random\n",
    "import pandas as pd\n",
    "import matplotlib.pyplot as plt\n",
    "from datasets import Dataset, DatasetDict\n",
    "from huggingface_hub import HfApi\n",
    "from tqdm import tqdm\n",
    "\n",
    "# Input and output file paths\n",
    "output_file_train = \"../data/mint/mint_train_dataset.csv\"\n",
    "output_file_test = \"../data/mint/mint_test_dataset.csv\"\n",
    "\n",
    "data = []\n",
    "sequence_lengths = []\n",
    "all_pairs = []\n",
    "not_found_count = 0\n",
    "conversion_error_count = 0\n",
    "\n",
    "data_total = 0\n",
    "with open(INPUT_FILE, \"r\") as f:\n",
    "    lines = f.readlines()\n",
    "    for line in tqdm(lines, desc=\"Processing rows\"):\n",
    "        cols = line.strip().split(\"\\t\")\n",
    "        uniprot1 = cols[0].split(\":\")[-1]\n",
    "        uniprot2 = cols[1].split(\":\")[-1]\n",
    "        \n",
    "        try:\n",
    "            intact_score = float(cols[-1].split(\":\")[-1])\n",
    "        except ValueError:\n",
    "            print(f\"Skipping row due to conversion error: {line.strip()}\")\n",
    "            conversion_error_count += 1\n",
    "            continue\n",
    "        \n",
    "        seq1 = sequence_cache.get(uniprot1, \"\")\n",
    "        seq2 = sequence_cache.get(uniprot2, \"\")\n",
    "        \n",
    "        data_total += 1\n",
    "        if not seq1 or not seq2:\n",
    "            not_found_count += 1\n",
    "            continue\n",
    "        \n",
    "        seq_len1 = len(seq1)\n",
    "        seq_len2 = len(seq2)\n",
    "        sequence_lengths.append(seq_len1)\n",
    "        sequence_lengths.append(seq_len2)\n",
    "        all_pairs.append((seq1, seq2, uniprot1, uniprot2, intact_score, seq_len1, seq_len2))\n",
    "\n",
    "# Plot sequence length distribution before filtering\n",
    "plt.hist(sequence_lengths, bins=50, edgecolor='black')\n",
    "plt.xlabel('Sequence Length')\n",
    "plt.ylabel('Frequency')\n",
    "plt.title('Distribution of Sequence Lengths Before Filtering')\n",
    "plt.show()\n",
    "\n",
    "# Filter out sequences longer than 1024\n",
    "filtered_pairs = [pair for pair in all_pairs if pair[5] <= 1024 and pair[6] <= 1024]\n",
    "num_removed = len(all_pairs) - len(filtered_pairs)\n",
    "print(f\"Total number of pairs processed: {data_total}\")\n",
    "print(f\"Number of pairs removed due to missing sequences: {not_found_count}\")\n",
    "print(f\"Number of pairs removed due to length > 1024: {num_removed}\")\n",
    "print(f\"Number of pairs removed due to conversion errors: {conversion_error_count}\")\n",
    "\n",
    "# Convert filtered data to Pandas DataFrame\n",
    "df = pd.DataFrame(filtered_pairs, columns=[\"sequence_1\", \"sequence_2\", \"uniprot_1\", \"uniprot_2\", \"intact_miscore\", \"seq_len1\", \"seq_len2\"])\n",
    "df = df.drop(columns=[\"seq_len1\", \"seq_len2\"])  # Drop length columns after filtering\n",
    "\n",
    "# Perform 80/20 train-test split\n",
    "df = df.sample(frac=1, random_state=42).reset_index(drop=True)  # Shuffle data\n",
    "split_idx = int(0.8 * len(df))\n",
    "df_train = df.iloc[:split_idx]\n",
    "df_test = df.iloc[split_idx:]\n",
    "\n",
    "# Save train and test sets as CSV with headers\n",
    "df_train.to_csv(output_file_train, index=False)\n",
    "df_test.to_csv(output_file_test, index=False)\n",
    "\n",
    "# Convert to Hugging Face dataset\n",
    "dataset_dict = DatasetDict({\n",
    "    \"train\": Dataset.from_pandas(df_train),\n",
    "    \"test\": Dataset.from_pandas(df_test)\n",
    "})\n",
    "\n",
    "dataset_dict.push_to_hub(\"vladak/mint\")"
   ]
  },
  {
   "cell_type": "code",
   "execution_count": null,
   "id": "dbef6c83",
   "metadata": {},
   "outputs": [],
   "source": []
  }
 ],
 "metadata": {
  "kernelspec": {
   "display_name": "Python 3 (ipykernel)",
   "language": "python",
   "name": "python3"
  },
  "language_info": {
   "codemirror_mode": {
    "name": "ipython",
    "version": 3
   },
   "file_extension": ".py",
   "mimetype": "text/x-python",
   "name": "python",
   "nbconvert_exporter": "python",
   "pygments_lexer": "ipython3",
   "version": "3.9.12"
  }
 },
 "nbformat": 4,
 "nbformat_minor": 5
}
